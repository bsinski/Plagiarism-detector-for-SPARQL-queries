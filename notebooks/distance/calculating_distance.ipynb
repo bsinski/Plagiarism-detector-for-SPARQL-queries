{
 "cells": [
  {
   "cell_type": "code",
   "execution_count": 1,
   "metadata": {},
   "outputs": [],
   "source": [
    "import rdflib\n",
    "from rdflib.plugins import sparql\n",
    "import re\n",
    "import numpy as np "
   ]
  },
  {
   "cell_type": "code",
   "execution_count": 2,
   "metadata": {},
   "outputs": [],
   "source": [
    "query_text = \"\"\"\n",
    "PREFIX geo: <http://www.w3.org/2003/01/geo/wgs84_pos#>\n",
    "PREFIX schema: <http://schema.org/>\n",
    "PREFIX rdf: <http://www.w3.org/1999/02/22-rdf-syntax-ns#>\n",
    "SELECT ?person ?name WHERE {\n",
    "  ?person rdf:type schema:Person ;\n",
    "  \t\tschema:height ?height;\n",
    "    \tschema:givenName ?name .\n",
    "  filter(?name=\"bartek\" &&(?height>170 || 180 > ?height))\n",
    "} \n",
    "ORDER BY ?name ?height\n",
    "\"\"\"\n",
    "query  = sparql.processor.prepareQuery(query_text)"
   ]
  },
  {
   "cell_type": "code",
   "execution_count": 3,
   "metadata": {},
   "outputs": [
    {
     "name": "stdout",
     "output_type": "stream",
     "text": [
      "SelectQuery(\n",
      "    p = Project(\n",
      "        p = OrderBy(\n",
      "            p = Filter(\n",
      "                expr = ConditionalAndExpression(\n",
      "                    expr = RelationalExpression(\n",
      "                        expr = name\n",
      "                        op = =\n",
      "                        other = bartek\n",
      "                        _vars = set()\n",
      "                        )\n",
      "                    other = [ConditionalOrExpression_{'expr': RelationalExpression_{'expr': rdflib.term.Variable('height'), 'op': '>', 'other': rdflib.term.Literal('170', datatype=rdflib.term.URIRef('http://www.w3.org/2001/XMLSchema#integer')), '_vars': set()}, 'other': [RelationalExpression_{'expr': rdflib.term.Literal('180', datatype=rdflib.term.URIRef('http://www.w3.org/2001/XMLSchema#integer')), 'op': '>', 'other': rdflib.term.Variable('height'), '_vars': set()}], '_vars': set()}]\n",
      "                    _vars = set()\n",
      "                    )\n",
      "                p = BGP(\n",
      "                    triples = [(rdflib.term.Variable('person'), rdflib.term.URIRef('http://www.w3.org/1999/02/22-rdf-syntax-ns#type'), rdflib.term.URIRef('http://schema.org/Person')), (rdflib.term.Variable('person'), rdflib.term.URIRef('http://schema.org/givenName'), rdflib.term.Variable('name')), (rdflib.term.Variable('person'), rdflib.term.URIRef('http://schema.org/height'), rdflib.term.Variable('height'))]\n",
      "                    _vars = {rdflib.term.Variable('height'), rdflib.term.Variable('name'), rdflib.term.Variable('person')}\n",
      "                    )\n",
      "                _vars = {rdflib.term.Variable('height'), rdflib.term.Variable('name'), rdflib.term.Variable('person')}\n",
      "                )\n",
      "            expr = [OrderCondition_{'expr': rdflib.term.Variable('name'), 'order': None, '_vars': {rdflib.term.Variable('name')}}, OrderCondition_{'expr': rdflib.term.Variable('height'), 'order': None, '_vars': {rdflib.term.Variable('height')}}]\n",
      "            _vars = {rdflib.term.Variable('height'), rdflib.term.Variable('name'), rdflib.term.Variable('person')}\n",
      "            )\n",
      "        PV = [rdflib.term.Variable('person'), rdflib.term.Variable('name')]\n",
      "        _vars = {rdflib.term.Variable('height'), rdflib.term.Variable('name'), rdflib.term.Variable('person')}\n",
      "        )\n",
      "    datasetClause = None\n",
      "    PV = [rdflib.term.Variable('person'), rdflib.term.Variable('name')]\n",
      "    _vars = {rdflib.term.Variable('height'), rdflib.term.Variable('name'), rdflib.term.Variable('person')}\n",
      "    )\n"
     ]
    }
   ],
   "source": [
    "parse_results = sparql.parser.parseQuery(query_text)\n",
    "algebra_result = sparql.algebra.translateQuery(parse_results)\n",
    "sparql.algebra.pprintAlgebra(algebra_result)"
   ]
  },
  {
   "cell_type": "code",
   "execution_count": 4,
   "metadata": {},
   "outputs": [],
   "source": [
    "algebra_dict = dict(algebra_result.algebra)"
   ]
  },
  {
   "cell_type": "code",
   "execution_count": 5,
   "metadata": {},
   "outputs": [],
   "source": [
    "def get_literal(literal):\n",
    "    type = literal.datatype\n",
    "    if type is not None:\n",
    "        return {'value':literal.toPython(),\"type\":literal.datatype.toPython()}\n",
    "    else:\n",
    "        return {'value':literal.toPython(),\"type\":literal.datatype}"
   ]
  },
  {
   "cell_type": "code",
   "execution_count": 6,
   "metadata": {},
   "outputs": [],
   "source": [
    "def get_variable(variable):\n",
    "    return variable.toPython()"
   ]
  },
  {
   "cell_type": "code",
   "execution_count": 7,
   "metadata": {},
   "outputs": [],
   "source": [
    "def parse_filterings(expression):\n",
    "    if expression.name == 'RelationalExpression':\n",
    "        if isinstance(expression['other'], rdflib.term.Literal):\n",
    "            other = get_literal(expression['other'])\n",
    "        else:\n",
    "            other = get_variable(expression['other'])\n",
    "        if isinstance(expression['expr'], rdflib.term.Literal):\n",
    "            expr = get_literal(expression['expr'])\n",
    "        else:\n",
    "            expr = get_variable(expression['expr'])\n",
    "        return {\n",
    "            'op': expression['op'],\n",
    "            'expr': expr,\n",
    "            'other': other,\n",
    "        }\n",
    "    elif expression.name == 'ConditionalAndExpression':\n",
    "        parsed_expression = {\n",
    "            'logic' : 'and',\n",
    "            'expr': parse_filterings(expression['expr']),\n",
    "            'other': parse_filterings(expression['other'][0])\n",
    "        }\n",
    "        return parsed_expression\n",
    "    elif expression.name == 'ConditionalOrExpression':\n",
    "        parsed_expression = {\n",
    "            'logic' : 'or',\n",
    "            'expr': parse_filterings(expression['expr']),\n",
    "            'other': parse_filterings(expression['other'][0])\n",
    "        }\n",
    "        return parsed_expression\n",
    "    else:\n",
    "        return None "
   ]
  },
  {
   "cell_type": "code",
   "execution_count": 8,
   "metadata": {},
   "outputs": [],
   "source": [
    "def parse_triple(triple):\n",
    "    return {\n",
    "        'subject': triple[0].toPython(),\n",
    "        'predicate': triple[1].toPython(),\n",
    "        'object': triple[2].toPython()\n",
    "    }"
   ]
  },
  {
   "cell_type": "code",
   "execution_count": 9,
   "metadata": {},
   "outputs": [],
   "source": [
    "def convert_to_query_structure(input_dict):\n",
    "    query_dict = {\n",
    "    }\n",
    "    tmp_dict = input_dict['p']\n",
    "    project = tmp_dict['PV']\n",
    "    query_dict['project'] = [p.toPython() for p in project]\n",
    "    \n",
    "    try:\n",
    "        order_condition = tmp_dict['p']['expr']\n",
    "        query_dict['order'] = []\n",
    "        for condition in order_condition:\n",
    "            query_dict['order'].append(condition['expr'].toPython())\n",
    "        tmp_dict = tmp_dict['p']\n",
    "    except KeyError:\n",
    "        pass\n",
    "    \n",
    "    try:\n",
    "        filter_condition = tmp_dict['p']['expr']\n",
    "        query_dict['filter'] = parse_filterings(filter_condition)\n",
    "        tmp_dict = tmp_dict['p']\n",
    "    except KeyError:\n",
    "        pass\n",
    "    \n",
    "    try:\n",
    "        bgp_triples = tmp_dict['p']['triples']\n",
    "        query_dict['bgp'] = []\n",
    "        for triple in bgp_triples:\n",
    "            query_dict['bgp'].append(parse_triple(triple))\n",
    "    except KeyError:\n",
    "        pass\n",
    "\n",
    "    return query_dict\n"
   ]
  },
  {
   "cell_type": "code",
   "execution_count": 10,
   "metadata": {},
   "outputs": [
    {
     "data": {
      "text/plain": [
       "{'project': ['?person', '?name'],\n",
       " 'order': ['?name', '?height'],\n",
       " 'filter': {'logic': 'and',\n",
       "  'expr': {'op': '=',\n",
       "   'expr': '?name',\n",
       "   'other': {'value': 'bartek', 'type': None}},\n",
       "  'other': {'logic': 'or',\n",
       "   'expr': {'op': '>',\n",
       "    'expr': '?height',\n",
       "    'other': {'value': 170,\n",
       "     'type': 'http://www.w3.org/2001/XMLSchema#integer'}},\n",
       "   'other': {'op': '>',\n",
       "    'expr': {'value': 180, 'type': 'http://www.w3.org/2001/XMLSchema#integer'},\n",
       "    'other': '?height'}}},\n",
       " 'bgp': [{'subject': '?person',\n",
       "   'predicate': 'http://www.w3.org/1999/02/22-rdf-syntax-ns#type',\n",
       "   'object': 'http://schema.org/Person'},\n",
       "  {'subject': '?person',\n",
       "   'predicate': 'http://schema.org/givenName',\n",
       "   'object': '?name'},\n",
       "  {'subject': '?person',\n",
       "   'predicate': 'http://schema.org/height',\n",
       "   'object': '?height'}]}"
      ]
     },
     "execution_count": 10,
     "metadata": {},
     "output_type": "execute_result"
    }
   ],
   "source": [
    "convert_to_query_structure(algebra_dict)"
   ]
  },
  {
   "cell_type": "code",
   "execution_count": 11,
   "metadata": {},
   "outputs": [],
   "source": [
    "def parse_prefixes(prefix_string):\n",
    "    prefixes = {}\n",
    "    pattern = re.compile(r'PREFIX\\s+(\\w+):\\s*<(.+?)>')\n",
    "    matches = pattern.findall(prefix_string)\n",
    "    for match in matches:\n",
    "        prefix, uri = match\n",
    "        prefixes[prefix] = uri\n",
    "    return prefixes"
   ]
  },
  {
   "cell_type": "code",
   "execution_count": 12,
   "metadata": {},
   "outputs": [
    {
     "data": {
      "text/plain": [
       "{'geo': 'http://www.w3.org/2003/01/geo/wgs84_pos#',\n",
       " 'schema': 'http://schema.org/',\n",
       " 'rdf': 'http://www.w3.org/1999/02/22-rdf-syntax-ns#'}"
      ]
     },
     "execution_count": 12,
     "metadata": {},
     "output_type": "execute_result"
    }
   ],
   "source": [
    "parse_prefixes(query_text)"
   ]
  },
  {
   "cell_type": "code",
   "execution_count": 13,
   "metadata": {},
   "outputs": [],
   "source": [
    "def convert_query_text(query_text):\n",
    "    query_dict = {\n",
    "        'prefixes': {},\n",
    "        'query': {}\n",
    "    }\n",
    "    parse_results = sparql.parser.parseQuery(query_text)\n",
    "    algebra_result = sparql.algebra.translateQuery(parse_results)\n",
    "    algebra_dict = dict(algebra_result.algebra)\n",
    "    query_dict['prefixes'] = parse_prefixes(query_text)\n",
    "    query_dict['query'] = convert_to_query_structure(algebra_dict)\n",
    "    return query_dict   "
   ]
  },
  {
   "cell_type": "code",
   "execution_count": 14,
   "metadata": {},
   "outputs": [],
   "source": [
    "prefix_string = \"\"\"\n",
    "PREFIX geo: <http://www.w3.org/2003/01/geo/wgs84_pos#>\n",
    "PREFIX schema: <http://schema.org/>\n",
    "PREFIX rdf: <http://www.w3.org/1999/02/22-rdf-syntax-ns#>\n",
    "\"\"\""
   ]
  },
  {
   "cell_type": "code",
   "execution_count": 15,
   "metadata": {},
   "outputs": [
    {
     "data": {
      "text/plain": [
       "{'prefixes': {'geo': 'http://www.w3.org/2003/01/geo/wgs84_pos#',\n",
       "  'schema': 'http://schema.org/',\n",
       "  'rdf': 'http://www.w3.org/1999/02/22-rdf-syntax-ns#'},\n",
       " 'query': {'project': ['?person', '?name'],\n",
       "  'order': ['?name', '?height'],\n",
       "  'filter': {'logic': 'and',\n",
       "   'expr': {'op': '=',\n",
       "    'expr': '?name',\n",
       "    'other': {'value': 'bartek', 'type': None}},\n",
       "   'other': {'logic': 'or',\n",
       "    'expr': {'op': '>',\n",
       "     'expr': '?height',\n",
       "     'other': {'value': 170,\n",
       "      'type': 'http://www.w3.org/2001/XMLSchema#integer'}},\n",
       "    'other': {'op': '>',\n",
       "     'expr': {'value': 180,\n",
       "      'type': 'http://www.w3.org/2001/XMLSchema#integer'},\n",
       "     'other': '?height'}}},\n",
       "  'bgp': [{'subject': '?person',\n",
       "    'predicate': 'http://www.w3.org/1999/02/22-rdf-syntax-ns#type',\n",
       "    'object': 'http://schema.org/Person'},\n",
       "   {'subject': '?person',\n",
       "    'predicate': 'http://schema.org/givenName',\n",
       "    'object': '?name'},\n",
       "   {'subject': '?person',\n",
       "    'predicate': 'http://schema.org/height',\n",
       "    'object': '?height'}]}}"
      ]
     },
     "execution_count": 15,
     "metadata": {},
     "output_type": "execute_result"
    }
   ],
   "source": [
    "query_dict = convert_query_text(query_text)\n",
    "query_dict"
   ]
  },
  {
   "cell_type": "markdown",
   "metadata": {},
   "source": [
    "#  Comparing Trees "
   ]
  },
  {
   "cell_type": "code",
   "execution_count": 16,
   "metadata": {},
   "outputs": [
    {
     "data": {
      "text/plain": [
       "2.0"
      ]
     },
     "execution_count": 16,
     "metadata": {},
     "output_type": "execute_result"
    }
   ],
   "source": [
    "from zss.simple_tree import Node\n",
    "from zss.compare import simple_distance\n",
    "\n",
    "A = (\n",
    "    Node(\"f\")\n",
    "        .addkid(Node(\"a\")\n",
    "            .addkid(Node(\"h\"))\n",
    "            .addkid(Node(\"c\")\n",
    "                .addkid(Node(\"l\"))))\n",
    "        .addkid(Node(\"e\"))\n",
    "    )\n",
    "B = (\n",
    "    Node(\"f\")\n",
    "        .addkid(Node(\"a\")\n",
    "            .addkid(Node(\"d\"))\n",
    "            .addkid(Node(\"c\")\n",
    "                .addkid(Node(\"b\"))))\n",
    "        .addkid(Node(\"e\"))\n",
    "    )\n",
    "simple_distance(A, B)"
   ]
  },
  {
   "cell_type": "code",
   "execution_count": 17,
   "metadata": {},
   "outputs": [
    {
     "name": "stdout",
     "output_type": "stream",
     "text": [
      "└──f\n",
      "   ├──a\n",
      "   │  ├──h\n",
      "   │  └──c\n",
      "   │     └──l\n",
      "   └──e\n"
     ]
    }
   ],
   "source": [
    "A.print_tree()"
   ]
  },
  {
   "cell_type": "code",
   "execution_count": 32,
   "metadata": {},
   "outputs": [],
   "source": [
    "query_text = \"\"\"\n",
    "PREFIX geo: <http://www.w3.org/2003/01/geo/wgs84_pos#>\n",
    "PREFIX schema: <http://schema.org/>\n",
    "PREFIX rdf: <http://www.w3.org/1999/02/22-rdf-syntax-ns#>\n",
    "SELECT ?person ?name WHERE {\n",
    "  ?person rdf:type schema:Person ;\n",
    "  \t\tschema:height ?height;\n",
    "    \tschema:givenName ?name .\n",
    "  filter(?name=\"bartek\" &&(?height>170 || 180 > ?height))\n",
    "} \n",
    "ORDER BY ?name ?height\n",
    "\"\"\"\n",
    "query_text2 = \"\"\"\n",
    "PREFIX geo: <http://www.w3.org/2003/01/geo/wgs84_pos#>\n",
    "PREFIX schema: <http://schema.org/>\n",
    "PREFIX rdf: <http://www.w3.org/1999/02/22-rdf-syntax-ns#>\n",
    "SELECT ?person ?name WHERE {\n",
    "  ?person rdf:type schema:Person ;\n",
    "  \t\tschema:height ?height;\n",
    "    \tschema:givenName ?name .\n",
    "  filter(?name=\"bartek\")\n",
    "  filter(?height>170 || 180 > ?height)\n",
    "} \n",
    "ORDER BY ?name ?height\n",
    "\"\"\"\n",
    "\n",
    "query_text3 = \"\"\"\n",
    "PREFIX geo: <http://www.w3.org/2003/01/geo/wgs84_pos#>\n",
    "PREFIX schema: <http://schema.org/>\n",
    "PREFIX rdf: <http://www.w3.org/1999/02/22-rdf-syntax-ns#>\n",
    "SELECT ?person ?name WHERE {\n",
    "  ?person rdf:type schema:Person ;\n",
    "  \t\tschema:height ?height;\n",
    "    \tschema:givenName ?name .\n",
    "  filter(?name=\"bartek\")\n",
    "  filter(180 > ?height || ?height>170)\n",
    "} \n",
    "ORDER BY ?name ?height\n",
    "\"\"\"\n",
    "\n",
    "query_test = \"\"\"\n",
    "PREFIX schema: <http://schema.org/>\n",
    "PREFIX rdf: <http://www.w3.org/1999/02/22-rdf-syntax-ns#>\n",
    "SELECT ?person ?name WHERE {\n",
    "  ?person rdf:type schema:Person ;\n",
    "  \t\tschema:height ?height;\n",
    "    \tschema:givenName ?name .\n",
    "  filter(?height>170)\n",
    "} \n",
    "ORDER BY ?name ?height\n",
    "\"\"\"\n",
    "query_dict = convert_query_text(query_text)\n",
    "query_dict2 = convert_query_text(query_text2)\n",
    "query_dict3 = convert_query_text(query_text3)\n",
    "query_dict_test = convert_query_text(query_test)"
   ]
  },
  {
   "cell_type": "code",
   "execution_count": 19,
   "metadata": {},
   "outputs": [
    {
     "data": {
      "text/plain": [
       "{'prefixes': {'geo': 'http://www.w3.org/2003/01/geo/wgs84_pos#',\n",
       "  'schema': 'http://schema.org/',\n",
       "  'rdf': 'http://www.w3.org/1999/02/22-rdf-syntax-ns#'},\n",
       " 'query': {'project': ['?person', '?name'],\n",
       "  'order': ['?name', '?height'],\n",
       "  'filter': {'logic': 'and',\n",
       "   'expr': {'op': '=',\n",
       "    'expr': '?name',\n",
       "    'other': {'value': 'bartek', 'type': None}},\n",
       "   'other': {'logic': 'or',\n",
       "    'expr': {'op': '>',\n",
       "     'expr': {'value': 180,\n",
       "      'type': 'http://www.w3.org/2001/XMLSchema#integer'},\n",
       "     'other': '?height'},\n",
       "    'other': {'op': '>',\n",
       "     'expr': '?height',\n",
       "     'other': {'value': 170,\n",
       "      'type': 'http://www.w3.org/2001/XMLSchema#integer'}}}},\n",
       "  'bgp': [{'subject': '?person',\n",
       "    'predicate': 'http://www.w3.org/1999/02/22-rdf-syntax-ns#type',\n",
       "    'object': 'http://schema.org/Person'},\n",
       "   {'subject': '?person',\n",
       "    'predicate': 'http://schema.org/givenName',\n",
       "    'object': '?name'},\n",
       "   {'subject': '?person',\n",
       "    'predicate': 'http://schema.org/height',\n",
       "    'object': '?height'}]}}"
      ]
     },
     "execution_count": 19,
     "metadata": {},
     "output_type": "execute_result"
    }
   ],
   "source": [
    "f"
   ]
  },
  {
   "cell_type": "code",
   "execution_count": 20,
   "metadata": {},
   "outputs": [
    {
     "data": {
      "text/plain": [
       "{'prefixes': {'geo': 'http://www.w3.org/2003/01/geo/wgs84_pos#',\n",
       "  'schema': 'http://schema.org/',\n",
       "  'rdf': 'http://www.w3.org/1999/02/22-rdf-syntax-ns#'},\n",
       " 'query': {'project': ['?person', '?name'],\n",
       "  'order': ['?name', '?height'],\n",
       "  'filter': {'logic': 'and',\n",
       "   'expr': {'op': '=',\n",
       "    'expr': '?name',\n",
       "    'other': {'value': 'bartek', 'type': None}},\n",
       "   'other': {'logic': 'or',\n",
       "    'expr': {'op': '>',\n",
       "     'expr': '?height',\n",
       "     'other': {'value': 170,\n",
       "      'type': 'http://www.w3.org/2001/XMLSchema#integer'}},\n",
       "    'other': {'op': '>',\n",
       "     'expr': {'value': 180,\n",
       "      'type': 'http://www.w3.org/2001/XMLSchema#integer'},\n",
       "     'other': '?height'}}},\n",
       "  'bgp': [{'subject': '?person',\n",
       "    'predicate': 'http://www.w3.org/1999/02/22-rdf-syntax-ns#type',\n",
       "    'object': 'http://schema.org/Person'},\n",
       "   {'subject': '?person',\n",
       "    'predicate': 'http://schema.org/givenName',\n",
       "    'object': '?name'},\n",
       "   {'subject': '?person',\n",
       "    'predicate': 'http://schema.org/height',\n",
       "    'object': '?height'}]}}"
      ]
     },
     "execution_count": 20,
     "metadata": {},
     "output_type": "execute_result"
    }
   ],
   "source": [
    "query_dict"
   ]
  },
  {
   "cell_type": "code",
   "execution_count": 35,
   "metadata": {},
   "outputs": [],
   "source": [
    "def dict2tree(dictionary, node = Node(\"root\")):\n",
    "    for key, value in dictionary.items():\n",
    "        if isinstance(value, dict):\n",
    "            child = dict2tree(value, Node(key))\n",
    "            node.addkid(child)\n",
    "        else:\n",
    "            if isinstance(value, list):\n",
    "                list_node = Node(key)\n",
    "                for item in value:\n",
    "                    list_node.addkid(Node(item))\n",
    "                node.addkid(list_node)\n",
    "            else:\n",
    "                node.addkid(Node(key).addkid(Node(value)))\n",
    "    return node\n",
    "\n",
    "# test_dict = {\"query\": query_dict}\n",
    "test_dict = query_dict\n",
    "node1 = Node(\"root1\")\n",
    "node2 = Node(\"root2\")\n",
    "node3 = Node(\"root3\")\n",
    "res = dict2tree(query_dict, node1)\n",
    "res2 = dict2tree(query_dict2, node2)\n",
    "res3 = dict2tree(query_dict3, node3)\n",
    "\n",
    "query_dict_test['query'].pop('bgp')\n",
    "res_test = dict2tree(query_dict_test, Node(\"root_test\"))\n"
   ]
  },
  {
   "cell_type": "code",
   "execution_count": 36,
   "metadata": {},
   "outputs": [
    {
     "name": "stdout",
     "output_type": "stream",
     "text": [
      "└──root_test\n",
      "   ├──prefixes\n",
      "   │  ├──schema\n",
      "   │  │  └──http://schema.org/\n",
      "   │  └──rdf\n",
      "   │     └──http://www.w3.org/1999/02/22-rdf-syntax-ns#\n",
      "   └──query\n",
      "      ├──project\n",
      "      │  ├──?person\n",
      "      │  └──?name\n",
      "      ├──order\n",
      "      │  ├──?name\n",
      "      │  └──?height\n",
      "      └──filter\n",
      "         ├──op\n",
      "         │  └──>\n",
      "         ├──expr\n",
      "         │  └──?height\n",
      "         └──other\n",
      "            ├──value\n",
      "            │  └──170\n",
      "            └──type\n",
      "               └──http://www.w3.org/2001/XMLSchema#integer\n"
     ]
    }
   ],
   "source": [
    "res_test.print_tree()"
   ]
  },
  {
   "cell_type": "code",
   "execution_count": 30,
   "metadata": {},
   "outputs": [
    {
     "name": "stdout",
     "output_type": "stream",
     "text": [
      "└──root2\n",
      "   ├──prefixes\n",
      "   │  ├──geo\n",
      "   │  │  └──http://www.w3.org/2003/01/geo/wgs84_pos#\n",
      "   │  ├──schema\n",
      "   │  │  └──http://schema.org/\n",
      "   │  └──rdf\n",
      "   │     └──http://www.w3.org/1999/02/22-rdf-syntax-ns#\n",
      "   └──query\n",
      "      ├──project\n",
      "      │  ├──?person\n",
      "      │  └──?name\n",
      "      ├──order\n",
      "      │  ├──?name\n",
      "      │  └──?height\n",
      "      ├──filter\n",
      "      │  ├──logic\n",
      "      │  │  └──and\n",
      "      │  ├──expr\n",
      "      │  │  ├──op\n",
      "      │  │  │  └──=\n",
      "      │  │  ├──expr\n",
      "      │  │  │  └──?name\n",
      "      │  │  └──other\n",
      "      │  │     ├──value\n",
      "      │  │     │  └──bartek\n",
      "      │  │     └──type\n",
      "      │  │        └──None\n",
      "      │  └──other\n",
      "      │     ├──logic\n",
      "      │     │  └──or\n",
      "      │     ├──expr\n",
      "      │     │  ├──op\n",
      "      │     │  │  └──>\n",
      "      │     │  ├──expr\n",
      "      │     │  │  └──?height\n",
      "      │     │  └──other\n",
      "      │     │     ├──value\n",
      "      │     │     │  └──170\n",
      "      │     │     └──type\n",
      "      │     │        └──http://www.w3.org/2001/XMLSchema#integer\n",
      "      │     └──other\n",
      "      │        ├──op\n",
      "      │        │  └──>\n",
      "      │        ├──expr\n",
      "      │        │  ├──value\n",
      "      │        │  │  └──180\n",
      "      │        │  └──type\n",
      "      │        │     └──http://www.w3.org/2001/XMLSchema#integer\n",
      "      │        └──other\n",
      "      │           └──?height\n",
      "      └──bgp\n",
      "         ├──{'subject': '?person', 'predicate': 'http://www.w3.org/1999/02/22-rdf-syntax-ns#type', 'object': 'http://schema.org/Person'}\n",
      "         ├──{'subject': '?person', 'predicate': 'http://schema.org/givenName', 'object': '?name'}\n",
      "         └──{'subject': '?person', 'predicate': 'http://schema.org/height', 'object': '?height'}\n"
     ]
    }
   ],
   "source": [
    "res2.print_tree()"
   ]
  },
  {
   "cell_type": "code",
   "execution_count": 31,
   "metadata": {},
   "outputs": [
    {
     "name": "stdout",
     "output_type": "stream",
     "text": [
      "└──root3\n",
      "   ├──prefixes\n",
      "   │  ├──geo\n",
      "   │  │  └──http://www.w3.org/2003/01/geo/wgs84_pos#\n",
      "   │  ├──schema\n",
      "   │  │  └──http://schema.org/\n",
      "   │  └──rdf\n",
      "   │     └──http://www.w3.org/1999/02/22-rdf-syntax-ns#\n",
      "   └──query\n",
      "      ├──project\n",
      "      │  ├──?person\n",
      "      │  └──?name\n",
      "      ├──order\n",
      "      │  ├──?name\n",
      "      │  └──?height\n",
      "      ├──filter\n",
      "      │  ├──logic\n",
      "      │  │  └──and\n",
      "      │  ├──expr\n",
      "      │  │  ├──op\n",
      "      │  │  │  └──=\n",
      "      │  │  ├──expr\n",
      "      │  │  │  └──?name\n",
      "      │  │  └──other\n",
      "      │  │     ├──value\n",
      "      │  │     │  └──bartek\n",
      "      │  │     └──type\n",
      "      │  │        └──None\n",
      "      │  └──other\n",
      "      │     ├──logic\n",
      "      │     │  └──or\n",
      "      │     ├──expr\n",
      "      │     │  ├──op\n",
      "      │     │  │  └──>\n",
      "      │     │  ├──expr\n",
      "      │     │  │  ├──value\n",
      "      │     │  │  │  └──180\n",
      "      │     │  │  └──type\n",
      "      │     │  │     └──http://www.w3.org/2001/XMLSchema#integer\n",
      "      │     │  └──other\n",
      "      │     │     └──?height\n",
      "      │     └──other\n",
      "      │        ├──op\n",
      "      │        │  └──>\n",
      "      │        ├──expr\n",
      "      │        │  └──?height\n",
      "      │        └──other\n",
      "      │           ├──value\n",
      "      │           │  └──170\n",
      "      │           └──type\n",
      "      │              └──http://www.w3.org/2001/XMLSchema#integer\n",
      "      └──bgp\n",
      "         ├──{'subject': '?person', 'predicate': 'http://www.w3.org/1999/02/22-rdf-syntax-ns#type', 'object': 'http://schema.org/Person'}\n",
      "         ├──{'subject': '?person', 'predicate': 'http://schema.org/givenName', 'object': '?name'}\n",
      "         └──{'subject': '?person', 'predicate': 'http://schema.org/height', 'object': '?height'}\n"
     ]
    }
   ],
   "source": [
    "res3.print_tree()"
   ]
  },
  {
   "cell_type": "code",
   "execution_count": 107,
   "metadata": {},
   "outputs": [
    {
     "data": {
      "text/plain": [
       "13.0"
      ]
     },
     "execution_count": 107,
     "metadata": {},
     "output_type": "execute_result"
    }
   ],
   "source": [
    "simple_distance(res3, res2)"
   ]
  },
  {
   "cell_type": "code",
   "execution_count": 27,
   "metadata": {},
   "outputs": [
    {
     "name": "stdout",
     "output_type": "stream",
     "text": [
      "'root3'\n",
      "\t'prefixes'\n",
      "\t\t'geo'\n",
      "\t\t\t'http://www.w3.org/2003/01/geo/wgs84_pos#'\n",
      "\t\t'schema'\n",
      "\t\t\t'http://schema.org/'\n",
      "\t\t'rdf'\n",
      "\t\t\t'http://www.w3.org/1999/02/22-rdf-syntax-ns#'\n",
      "\t'query'\n",
      "\t\t'project'\n",
      "\t\t\t'?person'\n",
      "\t\t\t'?name'\n",
      "\t\t'order'\n",
      "\t\t\t'?name'\n",
      "\t\t\t'?height'\n",
      "\t\t'filter'\n",
      "\t\t\t'logic'\n",
      "\t\t\t\t'and'\n",
      "\t\t\t'expr'\n",
      "\t\t\t\t'op'\n",
      "\t\t\t\t\t'='\n",
      "\t\t\t\t'expr'\n",
      "\t\t\t\t\t'?name'\n",
      "\t\t\t\t'other'\n",
      "\t\t\t\t\t'value'\n",
      "\t\t\t\t\t\t'bartek'\n",
      "\t\t\t\t\t'type'\n",
      "\t\t\t\t\t\tNone\n",
      "\t\t\t'other'\n",
      "\t\t\t\t'logic'\n",
      "\t\t\t\t\t'or'\n",
      "\t\t\t\t'expr'\n",
      "\t\t\t\t\t'op'\n",
      "\t\t\t\t\t\t'>'\n",
      "\t\t\t\t\t'expr'\n",
      "\t\t\t\t\t\t'value'\n",
      "\t\t\t\t\t\t\t180\n",
      "\t\t\t\t\t\t'type'\n",
      "\t\t\t\t\t\t\t'http://www.w3.org/2001/XMLSchema#integer'\n",
      "\t\t\t\t\t'other'\n",
      "\t\t\t\t\t\t'?height'\n",
      "\t\t\t\t'other'\n",
      "\t\t\t\t\t'op'\n",
      "\t\t\t\t\t\t'>'\n",
      "\t\t\t\t\t'expr'\n",
      "\t\t\t\t\t\t'?height'\n",
      "\t\t\t\t\t'other'\n",
      "\t\t\t\t\t\t'value'\n",
      "\t\t\t\t\t\t\t170\n",
      "\t\t\t\t\t\t'type'\n",
      "\t\t\t\t\t\t\t'http://www.w3.org/2001/XMLSchema#integer'\n",
      "\t\t'bgp'\n",
      "\t\t\t{'subject': '?person', 'predicate': 'http://www.w3.org/1999/02/22-rdf-syntax-ns#type', 'object': 'http://schema.org/Person'}\n",
      "\t\t\t{'subject': '?person', 'predicate': 'http://schema.org/givenName', 'object': '?name'}\n",
      "\t\t\t{'subject': '?person', 'predicate': 'http://schema.org/height', 'object': '?height'}\n",
      "\n"
     ]
    }
   ],
   "source": [
    "print(res3)"
   ]
  },
  {
   "cell_type": "code",
   "execution_count": 109,
   "metadata": {},
   "outputs": [
    {
     "name": "stdout",
     "output_type": "stream",
     "text": [
      "2:root2\n",
      "3:prefixes\n",
      "1:geo\n",
      "0:http://www.w3.org/2003/01/geo/wgs84_pos#\n",
      "1:schema\n",
      "0:http://schema.org/\n",
      "1:rdf\n",
      "0:http://www.w3.org/1999/02/22-rdf-syntax-ns#\n",
      "4:query\n",
      "2:project\n",
      "0:?person\n",
      "0:?name\n",
      "2:order\n",
      "0:?name\n",
      "0:?height\n",
      "3:filter\n",
      "1:logic\n",
      "0:and\n",
      "3:expr\n",
      "1:op\n",
      "0:=\n",
      "1:expr\n",
      "0:?name\n",
      "2:other\n",
      "1:value\n",
      "0:bartek\n",
      "1:type\n",
      "0:None\n",
      "3:other\n",
      "1:logic\n",
      "0:or\n",
      "3:expr\n",
      "1:op\n",
      "0:>\n",
      "1:expr\n",
      "0:?height\n",
      "2:other\n",
      "1:value\n",
      "0:170\n",
      "1:type\n",
      "0:http://www.w3.org/2001/XMLSchema#integer\n",
      "3:other\n",
      "1:op\n",
      "0:>\n",
      "2:expr\n",
      "1:value\n",
      "0:180\n",
      "1:type\n",
      "0:http://www.w3.org/2001/XMLSchema#integer\n",
      "1:other\n",
      "0:?height\n",
      "3:bgp\n",
      "0:{'subject': '?person', 'predicate': 'http://www.w3.org/1999/02/22-rdf-syntax-ns#type', 'object': 'http://schema.org/Person'}\n",
      "0:{'subject': '?person', 'predicate': 'http://schema.org/givenName', 'object': '?name'}\n",
      "0:{'subject': '?person', 'predicate': 'http://schema.org/height', 'object': '?height'}\n"
     ]
    }
   ],
   "source": [
    "print(res2)"
   ]
  }
 ],
 "metadata": {
  "kernelspec": {
   "display_name": "base",
   "language": "python",
   "name": "python3"
  },
  "language_info": {
   "codemirror_mode": {
    "name": "ipython",
    "version": 3
   },
   "file_extension": ".py",
   "mimetype": "text/x-python",
   "name": "python",
   "nbconvert_exporter": "python",
   "pygments_lexer": "ipython3",
   "version": "3.10.13"
  }
 },
 "nbformat": 4,
 "nbformat_minor": 2
}
