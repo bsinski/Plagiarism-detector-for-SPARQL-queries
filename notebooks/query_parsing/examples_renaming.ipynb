{
 "cells": [
  {
   "cell_type": "code",
   "execution_count": 1,
   "metadata": {},
   "outputs": [],
   "source": [
    "import rdflib\n",
    "from rdflib.plugins import sparql\n",
    "import re\n",
    "import numpy as np \n",
    "import scripts.queryParser as qp\n",
    "import copy"
   ]
  },
  {
   "cell_type": "code",
   "execution_count": 2,
   "metadata": {},
   "outputs": [],
   "source": [
    "query_text = \"\"\"\n",
    "PREFIX xsd: <http://www.w3.org/2001/XMLSchema#>\n",
    "PREFIX schema: <http://schema.org/>\n",
    "PREFIX rdf: <http://www.w3.org/1999/02/22-rdf-syntax-ns#>\n",
    "PREFIX rdfs: <http://www.w3.org/2000/01/rdf-schema#>\n",
    "PREFIX skos: <http://www.w3.org/2004/02/skos/core#>\n",
    "PREFIX lab: <https://mini.pw.edu.pl/sdp/lab3/>\n",
    "SELECT ?firstPerson  (AVG(?food) as ?anyFood) (GROUP_CONCAT(?food) as ?minfood )  {\n",
    "\t?secondPerson  rdf:type schema:Person ; \n",
    "                skos:subject ?food .\n",
    "  ?firstPerson rdf:type schema:Person ;\n",
    "  \t\t\t\tskos:subject ?food .\n",
    "  filter(?firstPerson != ?secondPerson && STR(?firstPerson) < STR(?secondPerson))\n",
    "}\n",
    "group by ?firstPerson ?secondPerson\n",
    "ORDER BY ?firstPerson \n",
    "\"\"\""
   ]
  },
  {
   "cell_type": "code",
   "execution_count": 3,
   "metadata": {},
   "outputs": [],
   "source": [
    "query_text2 = \"\"\"\n",
    "PREFIX xsd: <http://www.w3.org/2001/XMLSchema#>\n",
    "PREFIX schema: <http://schema.org/>\n",
    "PREFIX rdf: <http://www.w3.org/1999/02/22-rdf-syntax-ns#>\n",
    "PREFIX rdfs: <http://www.w3.org/2000/01/rdf-schema#>\n",
    "PREFIX skos: <http://www.w3.org/2004/02/skos/core#>\n",
    "PREFIX lab: <https://mini.pw.edu.pl/sdp/lab3/>\n",
    "SELECT ?Adam (AVG(?drink) as ?anyDrink) (GROUP_CONCAT(?drink) as ?minDrink)  {\n",
    "  ?Adam rdf:type schema:Person ;\n",
    "  \t\t\t\tskos:subject ?drink ;\n",
    "          lab:height ?height ;\n",
    "          lab:weight ?weight .\n",
    "\t?Bartek  rdf:type schema:Person ; \n",
    "                skos:subject ?drink ;\n",
    "                lab:height ?height .\n",
    "  filter( STR(?Adam) < STR(?secondPerson) && ?Adam != ?Bartek)\n",
    "}\n",
    "group by ?Adam ?Bartek\n",
    "ORDER BY ?Adam\n",
    "\"\"\""
   ]
  },
  {
   "cell_type": "code",
   "execution_count": 4,
   "metadata": {},
   "outputs": [],
   "source": [
    "query_dict1 = qp.convert_query_text(query_text)\n",
    "query_dict2 = qp.convert_query_text(query_text2)"
   ]
  },
  {
   "cell_type": "code",
   "execution_count": 6,
   "metadata": {},
   "outputs": [
    {
     "data": {
      "text/plain": [
       "{'prefixes': {'xsd': 'http://www.w3.org/2001/XMLSchema#',\n",
       "  'schema': 'http://schema.org/',\n",
       "  'rdf': 'http://www.w3.org/1999/02/22-rdf-syntax-ns#',\n",
       "  'rdfs': 'http://www.w3.org/2000/01/rdf-schema#',\n",
       "  'skos': 'http://www.w3.org/2004/02/skos/core#',\n",
       "  'lab': 'https://mini.pw.edu.pl/sdp/lab3/'},\n",
       " 'query': {'project': ['?firstPerson', '?aggr0', '?aggr1'],\n",
       "  'order': ['?firstPerson'],\n",
       "  'group': {'variables': ['?firstPerson', '?secondPerson'],\n",
       "   'aggregates': [{'type': 'Avg', 'variable': '?food', 'res': '?aggr0'},\n",
       "    {'type': 'GroupConcat', 'variable': '?food', 'res': '?aggr1'}]},\n",
       "  'bgp': [{'subject': '?firstPerson',\n",
       "    'predicate': 'http://www.w3.org/1999/02/22-rdf-syntax-ns#type',\n",
       "    'object': 'http://schema.org/Person'},\n",
       "   {'subject': '?secondPerson',\n",
       "    'predicate': 'http://www.w3.org/1999/02/22-rdf-syntax-ns#type',\n",
       "    'object': 'http://schema.org/Person'},\n",
       "   {'subject': '?firstPerson',\n",
       "    'predicate': 'http://www.w3.org/2004/02/skos/core#subject',\n",
       "    'object': '?food'},\n",
       "   {'subject': '?secondPerson',\n",
       "    'predicate': 'http://www.w3.org/2004/02/skos/core#subject',\n",
       "    'object': '?food'}]}}"
      ]
     },
     "execution_count": 6,
     "metadata": {},
     "output_type": "execute_result"
    }
   ],
   "source": [
    "query_dict1"
   ]
  },
  {
   "cell_type": "code",
   "execution_count": 8,
   "metadata": {},
   "outputs": [
    {
     "data": {
      "text/plain": [
       "{'prefixes': {'xsd': 'http://www.w3.org/2001/XMLSchema#',\n",
       "  'schema': 'http://schema.org/',\n",
       "  'rdf': 'http://www.w3.org/1999/02/22-rdf-syntax-ns#',\n",
       "  'rdfs': 'http://www.w3.org/2000/01/rdf-schema#',\n",
       "  'skos': 'http://www.w3.org/2004/02/skos/core#',\n",
       "  'lab': 'https://mini.pw.edu.pl/sdp/lab3/'},\n",
       " 'query': {'project': ['?Adam', '?aggr0', '?aggr1'],\n",
       "  'order': ['?Adam'],\n",
       "  'group': {'variables': ['?Adam', '?Bartek'],\n",
       "   'aggregates': [{'type': 'Avg', 'variable': '?drink', 'res': '?aggr0'},\n",
       "    {'type': 'GroupConcat', 'variable': '?drink', 'res': '?aggr1'}]},\n",
       "  'bgp': [{'subject': '?Adam',\n",
       "    'predicate': 'http://www.w3.org/1999/02/22-rdf-syntax-ns#type',\n",
       "    'object': 'http://schema.org/Person'},\n",
       "   {'subject': '?Bartek',\n",
       "    'predicate': 'http://www.w3.org/1999/02/22-rdf-syntax-ns#type',\n",
       "    'object': 'http://schema.org/Person'},\n",
       "   {'subject': '?Adam',\n",
       "    'predicate': 'http://www.w3.org/2004/02/skos/core#subject',\n",
       "    'object': '?drink'},\n",
       "   {'subject': '?Adam',\n",
       "    'predicate': 'https://mini.pw.edu.pl/sdp/lab3/height',\n",
       "    'object': '?height'},\n",
       "   {'subject': '?Adam',\n",
       "    'predicate': 'https://mini.pw.edu.pl/sdp/lab3/weight',\n",
       "    'object': '?weight'},\n",
       "   {'subject': '?Bartek',\n",
       "    'predicate': 'http://www.w3.org/2004/02/skos/core#subject',\n",
       "    'object': '?drink'},\n",
       "   {'subject': '?Bartek',\n",
       "    'predicate': 'https://mini.pw.edu.pl/sdp/lab3/height',\n",
       "    'object': '?height'}]}}"
      ]
     },
     "execution_count": 8,
     "metadata": {},
     "output_type": "execute_result"
    }
   ],
   "source": [
    "query_dict2"
   ]
  },
  {
   "cell_type": "code",
   "execution_count": 5,
   "metadata": {},
   "outputs": [],
   "source": [
    "query_unified1, query_unified2 = qp.unify_names(query_dict1, query_dict2)"
   ]
  },
  {
   "cell_type": "code",
   "execution_count": 9,
   "metadata": {},
   "outputs": [
    {
     "data": {
      "text/plain": [
       "{'prefixes': {'xsd': 'http://www.w3.org/2001/XMLSchema#',\n",
       "  'schema': 'http://schema.org/',\n",
       "  'rdf': 'http://www.w3.org/1999/02/22-rdf-syntax-ns#',\n",
       "  'rdfs': 'http://www.w3.org/2000/01/rdf-schema#',\n",
       "  'skos': 'http://www.w3.org/2004/02/skos/core#',\n",
       "  'lab': 'https://mini.pw.edu.pl/sdp/lab3/'},\n",
       " 'query': {'project': ['?s0', '?aggr0', '?aggr1'],\n",
       "  'order': ['?s0'],\n",
       "  'group': {'variables': ['?s0', '?s1'],\n",
       "   'aggregates': [{'type': 'Avg', 'variable': '?o0', 'res': '?aggr0'},\n",
       "    {'type': 'GroupConcat', 'variable': '?o0', 'res': '?aggr1'}]},\n",
       "  'bgp': [{'subject': '?s0',\n",
       "    'predicate': 'http://www.w3.org/1999/02/22-rdf-syntax-ns#type',\n",
       "    'object': 'http://schema.org/Person'},\n",
       "   {'subject': '?s1',\n",
       "    'predicate': 'http://www.w3.org/1999/02/22-rdf-syntax-ns#type',\n",
       "    'object': 'http://schema.org/Person'},\n",
       "   {'subject': '?s0',\n",
       "    'predicate': 'http://www.w3.org/2004/02/skos/core#subject',\n",
       "    'object': '?o0'},\n",
       "   {'subject': '?s1',\n",
       "    'predicate': 'http://www.w3.org/2004/02/skos/core#subject',\n",
       "    'object': '?o0'}]}}"
      ]
     },
     "execution_count": 9,
     "metadata": {},
     "output_type": "execute_result"
    }
   ],
   "source": [
    "query_unified1"
   ]
  },
  {
   "cell_type": "code",
   "execution_count": 10,
   "metadata": {},
   "outputs": [
    {
     "data": {
      "text/plain": [
       "{'prefixes': {'xsd': 'http://www.w3.org/2001/XMLSchema#',\n",
       "  'schema': 'http://schema.org/',\n",
       "  'rdf': 'http://www.w3.org/1999/02/22-rdf-syntax-ns#',\n",
       "  'rdfs': 'http://www.w3.org/2000/01/rdf-schema#',\n",
       "  'skos': 'http://www.w3.org/2004/02/skos/core#',\n",
       "  'lab': 'https://mini.pw.edu.pl/sdp/lab3/'},\n",
       " 'query': {'project': ['?s0', '?aggr0', '?aggr1'],\n",
       "  'order': ['?s0'],\n",
       "  'group': {'variables': ['?s0', '?s1'],\n",
       "   'aggregates': [{'type': 'Avg', 'variable': '?o0', 'res': '?aggr0'},\n",
       "    {'type': 'GroupConcat', 'variable': '?o0', 'res': '?aggr1'}]},\n",
       "  'bgp': [{'subject': '?s0',\n",
       "    'predicate': 'http://www.w3.org/1999/02/22-rdf-syntax-ns#type',\n",
       "    'object': 'http://schema.org/Person'},\n",
       "   {'subject': '?s1',\n",
       "    'predicate': 'http://www.w3.org/1999/02/22-rdf-syntax-ns#type',\n",
       "    'object': 'http://schema.org/Person'},\n",
       "   {'subject': '?s0',\n",
       "    'predicate': 'http://www.w3.org/2004/02/skos/core#subject',\n",
       "    'object': '?o0'},\n",
       "   {'subject': '?s0',\n",
       "    'predicate': 'https://mini.pw.edu.pl/sdp/lab3/height',\n",
       "    'object': '?o3'},\n",
       "   {'subject': '?s0',\n",
       "    'predicate': 'https://mini.pw.edu.pl/sdp/lab3/weight',\n",
       "    'object': '?o4'},\n",
       "   {'subject': '?s1',\n",
       "    'predicate': 'http://www.w3.org/2004/02/skos/core#subject',\n",
       "    'object': '?o0'},\n",
       "   {'subject': '?s1',\n",
       "    'predicate': 'https://mini.pw.edu.pl/sdp/lab3/height',\n",
       "    'object': '?o3'}]}}"
      ]
     },
     "execution_count": 10,
     "metadata": {},
     "output_type": "execute_result"
    }
   ],
   "source": [
    "query_unified2"
   ]
  }
 ],
 "metadata": {
  "kernelspec": {
   "display_name": "base",
   "language": "python",
   "name": "python3"
  },
  "language_info": {
   "codemirror_mode": {
    "name": "ipython",
    "version": 3
   },
   "file_extension": ".py",
   "mimetype": "text/x-python",
   "name": "python",
   "nbconvert_exporter": "python",
   "pygments_lexer": "ipython3",
   "version": "3.11.5"
  }
 },
 "nbformat": 4,
 "nbformat_minor": 2
}
