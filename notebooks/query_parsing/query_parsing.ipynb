{
 "cells": [
  {
   "cell_type": "code",
   "execution_count": 2,
   "metadata": {},
   "outputs": [],
   "source": [
    "import rdflib\n",
    "from rdflib.plugins import sparql\n",
    "import re\n",
    "import numpy as np "
   ]
  },
  {
   "cell_type": "code",
   "execution_count": 3,
   "metadata": {},
   "outputs": [],
   "source": [
    "# query_text = \"\"\"\n",
    "# PREFIX geo: <http://www.w3.org/2003/01/geo/wgs84_pos#>\n",
    "# PREFIX schema: <http://schema.org/>\n",
    "# PREFIX rdf: <http://www.w3.org/1999/02/22-rdf-syntax-ns#>\n",
    "# SELECT ?person ?name WHERE {\n",
    "#   ?person rdf:type schema:Person ;\n",
    "#   \t\tschema:height ?height;\n",
    "#     \tschema:givenName ?name .\n",
    "#   filter(?height>170)\n",
    "# } \n",
    "# ORDER BY ?name ?height\n",
    "# \"\"\"\n",
    "# query  = sparql.processor.prepareQuery(query_text)"
   ]
  },
  {
   "cell_type": "code",
   "execution_count": 4,
   "metadata": {},
   "outputs": [],
   "source": [
    "query_text = \"\"\"\n",
    "PREFIX xsd: <http://www.w3.org/2001/XMLSchema#>\n",
    "PREFIX schema: <http://schema.org/>\n",
    "PREFIX rdf: <http://www.w3.org/1999/02/22-rdf-syntax-ns#>\n",
    "PREFIX rdfs: <http://www.w3.org/2000/01/rdf-schema#>\n",
    "PREFIX skos: <http://www.w3.org/2004/02/skos/core#>\n",
    "PREFIX lab: <https://mini.pw.edu.pl/sdp/lab3/>\n",
    "SELECT ?firstPerson (?secondPerson as ?thirdPerson) (AVG(?food) as ?anyFood) (GROUP_CONCAT(?food) as ?minfood )  {\n",
    "  \t?firstPerson rdf:type schema:Person ;\n",
    "  \t\t\t\tskos:subject ?food .\n",
    "\t?secondPerson  rdf:type schema:Person ; \n",
    "                skos:subject ?food .\n",
    "  filter(?firstPerson != ?secondPerson && STR(?firstPerson) < STR(?secondPerson))\n",
    "}\n",
    "group by ?firstPerson ?secondPerson\n",
    "ORDER BY ?firstPerson \n",
    "\"\"\"\n",
    "\n",
    "query  = sparql.processor.prepareQuery(query_text)"
   ]
  },
  {
   "cell_type": "code",
   "execution_count": 5,
   "metadata": {},
   "outputs": [
    {
     "name": "stdout",
     "output_type": "stream",
     "text": [
      "SelectQuery(\n",
      "    p = Project(\n",
      "        p = OrderBy(\n",
      "            p = Extend(\n",
      "                p = Extend(\n",
      "                    p = Extend(\n",
      "                        p = Extend(\n",
      "                            p = AggregateJoin(\n",
      "                                A = [Aggregate_Sample_{'vars': rdflib.term.Variable('secondPerson'), 'res': rdflib.term.Variable('__agg_1__'), '_vars': {rdflib.term.Variable('__agg_1__'), rdflib.term.Variable('secondPerson')}}, Aggregate_Avg_{'distinct': [], 'vars': rdflib.term.Variable('food'), 'res': rdflib.term.Variable('__agg_2__'), '_vars': {rdflib.term.Variable('__agg_2__'), rdflib.term.Variable('food')}}, Aggregate_GroupConcat_{'distinct': [], 'vars': rdflib.term.Variable('food'), 'res': rdflib.term.Variable('__agg_3__'), '_vars': {rdflib.term.Variable('food'), rdflib.term.Variable('__agg_3__')}}, Aggregate_Sample_{'vars': rdflib.term.Variable('firstPerson'), 'res': rdflib.term.Variable('__agg_4__'), '_vars': {rdflib.term.Variable('__agg_4__'), rdflib.term.Variable('firstPerson')}}]\n",
      "                                p = Group(\n",
      "                                    p = Filter(\n",
      "                                        expr = ConditionalAndExpression(\n",
      "                                            expr = RelationalExpression(\n",
      "                                                expr = firstPerson\n",
      "                                                op = !=\n",
      "                                                other = secondPerson\n",
      "                                                _vars = set()\n",
      "                                                )\n",
      "                                            other = [RelationalExpression_{'expr': Builtin_STR_{'arg': rdflib.term.Variable('firstPerson'), '_vars': {rdflib.term.Variable('firstPerson')}}, 'op': '<', 'other': Builtin_STR_{'arg': rdflib.term.Variable('secondPerson'), '_vars': {rdflib.term.Variable('secondPerson')}}, '_vars': set()}]\n",
      "                                            _vars = set()\n",
      "                                            )\n",
      "                                        p = BGP(\n",
      "                                            triples = [(rdflib.term.Variable('firstPerson'), rdflib.term.URIRef('http://www.w3.org/1999/02/22-rdf-syntax-ns#type'), rdflib.term.URIRef('http://schema.org/Person')), (rdflib.term.Variable('secondPerson'), rdflib.term.URIRef('http://www.w3.org/1999/02/22-rdf-syntax-ns#type'), rdflib.term.URIRef('http://schema.org/Person')), (rdflib.term.Variable('firstPerson'), rdflib.term.URIRef('http://www.w3.org/2004/02/skos/core#subject'), rdflib.term.Variable('food')), (rdflib.term.Variable('secondPerson'), rdflib.term.URIRef('http://www.w3.org/2004/02/skos/core#subject'), rdflib.term.Variable('food'))]\n",
      "                                            _vars = {rdflib.term.Variable('firstPerson'), rdflib.term.Variable('secondPerson'), rdflib.term.Variable('food')}\n",
      "                                            )\n",
      "                                        _vars = {rdflib.term.Variable('firstPerson'), rdflib.term.Variable('secondPerson'), rdflib.term.Variable('food')}\n",
      "                                        )\n",
      "                                    expr = [rdflib.term.Variable('firstPerson'), rdflib.term.Variable('secondPerson')]\n",
      "                                    _vars = {rdflib.term.Variable('firstPerson'), rdflib.term.Variable('secondPerson'), rdflib.term.Variable('food')}\n",
      "                                    )\n",
      "                                _vars = {rdflib.term.Variable('__agg_4__'), rdflib.term.Variable('__agg_1__'), rdflib.term.Variable('firstPerson'), rdflib.term.Variable('__agg_2__'), rdflib.term.Variable('secondPerson'), rdflib.term.Variable('food'), rdflib.term.Variable('__agg_3__')}\n",
      "                                )\n",
      "                            expr = __agg_4__\n",
      "                            var = firstPerson\n",
      "                            _vars = {rdflib.term.Variable('__agg_4__'), rdflib.term.Variable('__agg_1__'), rdflib.term.Variable('firstPerson'), rdflib.term.Variable('__agg_2__'), rdflib.term.Variable('secondPerson'), rdflib.term.Variable('food'), rdflib.term.Variable('__agg_3__')}\n",
      "                            )\n",
      "                        expr = __agg_1__\n",
      "                        var = thirdPerson\n",
      "                        _vars = {rdflib.term.Variable('__agg_4__'), rdflib.term.Variable('__agg_1__'), rdflib.term.Variable('thirdPerson'), rdflib.term.Variable('firstPerson'), rdflib.term.Variable('__agg_2__'), rdflib.term.Variable('secondPerson'), rdflib.term.Variable('food'), rdflib.term.Variable('__agg_3__')}\n",
      "                        )\n",
      "                    expr = __agg_2__\n",
      "                    var = anyFood\n",
      "                    _vars = {rdflib.term.Variable('__agg_4__'), rdflib.term.Variable('thirdPerson'), rdflib.term.Variable('firstPerson'), rdflib.term.Variable('__agg_2__'), rdflib.term.Variable('secondPerson'), rdflib.term.Variable('food'), rdflib.term.Variable('__agg_3__'), rdflib.term.Variable('__agg_1__'), rdflib.term.Variable('anyFood')}\n",
      "                    )\n",
      "                expr = __agg_3__\n",
      "                var = minfood\n",
      "                _vars = {rdflib.term.Variable('__agg_4__'), rdflib.term.Variable('thirdPerson'), rdflib.term.Variable('firstPerson'), rdflib.term.Variable('__agg_2__'), rdflib.term.Variable('secondPerson'), rdflib.term.Variable('food'), rdflib.term.Variable('__agg_3__'), rdflib.term.Variable('__agg_1__'), rdflib.term.Variable('anyFood'), rdflib.term.Variable('minfood')}\n",
      "                )\n",
      "            expr = [OrderCondition_{'expr': rdflib.term.Variable('firstPerson'), 'order': None, '_vars': {rdflib.term.Variable('firstPerson')}}]\n",
      "            _vars = {rdflib.term.Variable('__agg_4__'), rdflib.term.Variable('thirdPerson'), rdflib.term.Variable('firstPerson'), rdflib.term.Variable('__agg_2__'), rdflib.term.Variable('secondPerson'), rdflib.term.Variable('food'), rdflib.term.Variable('__agg_3__'), rdflib.term.Variable('__agg_1__'), rdflib.term.Variable('anyFood'), rdflib.term.Variable('minfood')}\n",
      "            )\n",
      "        PV = [rdflib.term.Variable('firstPerson'), rdflib.term.Variable('thirdPerson'), rdflib.term.Variable('anyFood'), rdflib.term.Variable('minfood')]\n",
      "        _vars = {rdflib.term.Variable('__agg_4__'), rdflib.term.Variable('thirdPerson'), rdflib.term.Variable('firstPerson'), rdflib.term.Variable('__agg_2__'), rdflib.term.Variable('secondPerson'), rdflib.term.Variable('food'), rdflib.term.Variable('__agg_3__'), rdflib.term.Variable('__agg_1__'), rdflib.term.Variable('anyFood'), rdflib.term.Variable('minfood')}\n",
      "        )\n",
      "    datasetClause = None\n",
      "    PV = [rdflib.term.Variable('firstPerson'), rdflib.term.Variable('thirdPerson'), rdflib.term.Variable('anyFood'), rdflib.term.Variable('minfood')]\n",
      "    _vars = {rdflib.term.Variable('__agg_4__'), rdflib.term.Variable('thirdPerson'), rdflib.term.Variable('firstPerson'), rdflib.term.Variable('__agg_2__'), rdflib.term.Variable('secondPerson'), rdflib.term.Variable('food'), rdflib.term.Variable('__agg_3__'), rdflib.term.Variable('__agg_1__'), rdflib.term.Variable('anyFood'), rdflib.term.Variable('minfood')}\n",
      "    )\n"
     ]
    }
   ],
   "source": [
    "parse_results = sparql.parser.parseQuery(query_text)\n",
    "algebra_result = sparql.algebra.translateQuery(parse_results)\n",
    "sparql.algebra.pprintAlgebra(algebra_result)"
   ]
  },
  {
   "cell_type": "code",
   "execution_count": 7,
   "metadata": {},
   "outputs": [],
   "source": [
    "algebra_dict = dict(algebra_result.algebra)"
   ]
  },
  {
   "cell_type": "code",
   "execution_count": 19,
   "metadata": {},
   "outputs": [
    {
     "data": {
      "text/plain": [
       "odict_keys(['p', 'expr', 'var', '_vars'])"
      ]
     },
     "execution_count": 19,
     "metadata": {},
     "output_type": "execute_result"
    }
   ],
   "source": [
    "algebra_dict['p']['p']['p']['p'].keys()"
   ]
  },
  {
   "cell_type": "code",
   "execution_count": 32,
   "metadata": {},
   "outputs": [
    {
     "data": {
      "text/plain": [
       "[Aggregate_Sample_{'vars': rdflib.term.Variable('secondPerson'), 'res': rdflib.term.Variable('__agg_1__'), '_vars': {rdflib.term.Variable('__agg_1__'), rdflib.term.Variable('secondPerson')}},\n",
       " Aggregate_Avg_{'distinct': [], 'vars': rdflib.term.Variable('food'), 'res': rdflib.term.Variable('__agg_2__'), '_vars': {rdflib.term.Variable('__agg_2__'), rdflib.term.Variable('food')}},\n",
       " Aggregate_GroupConcat_{'distinct': [], 'vars': rdflib.term.Variable('food'), 'res': rdflib.term.Variable('__agg_3__'), '_vars': {rdflib.term.Variable('food'), rdflib.term.Variable('__agg_3__')}},\n",
       " Aggregate_Sample_{'vars': rdflib.term.Variable('firstPerson'), 'res': rdflib.term.Variable('__agg_4__'), '_vars': {rdflib.term.Variable('__agg_4__'), rdflib.term.Variable('firstPerson')}}]"
      ]
     },
     "execution_count": 32,
     "metadata": {},
     "output_type": "execute_result"
    }
   ],
   "source": [
    "algebra_dict['p']['p']['p']['p']['p']['p']['p']['A']"
   ]
  },
  {
   "cell_type": "code",
   "execution_count": 8,
   "metadata": {},
   "outputs": [],
   "source": [
    "def get_literal(literal):\n",
    "    type = literal.datatype\n",
    "    if type is not None:\n",
    "        return {'value':literal.toPython(),\"type\":literal.datatype.toPython()}\n",
    "    else:\n",
    "        return {'value':literal.toPython(),\"type\":literal.datatype}"
   ]
  },
  {
   "cell_type": "code",
   "execution_count": 9,
   "metadata": {},
   "outputs": [],
   "source": [
    "def get_variable(variable):\n",
    "    return variable.toPython()"
   ]
  },
  {
   "cell_type": "code",
   "execution_count": 10,
   "metadata": {},
   "outputs": [],
   "source": [
    "def parse_filterings(expression):\n",
    "    if expression.name == 'RelationalExpression':\n",
    "        if isinstance(expression['other'], rdflib.term.Literal):\n",
    "            other = get_literal(expression['other'])\n",
    "        else:\n",
    "            other = get_variable(expression['other'])\n",
    "        if isinstance(expression['expr'], rdflib.term.Literal):\n",
    "            expr = get_literal(expression['expr'])\n",
    "        else:\n",
    "            expr = get_variable(expression['expr'])\n",
    "        return {\n",
    "            'op': expression['op'],\n",
    "            'expr': expr,\n",
    "            'other': other,\n",
    "        }\n",
    "    elif expression.name == 'ConditionalAndExpression':\n",
    "        parsed_expression = {\n",
    "            'logic' : 'and',\n",
    "            'expr': parse_filterings(expression['expr']),\n",
    "            'other': parse_filterings(expression['other'][0])\n",
    "        }\n",
    "        return parsed_expression\n",
    "    elif expression.name == 'ConditionalOrExpression':\n",
    "        parsed_expression = {\n",
    "            'logic' : 'or',\n",
    "            'expr': parse_filterings(expression['expr']),\n",
    "            'other': parse_filterings(expression['other'][0])\n",
    "        }\n",
    "        return parsed_expression\n",
    "    else:\n",
    "        return None "
   ]
  },
  {
   "cell_type": "code",
   "execution_count": 55,
   "metadata": {},
   "outputs": [],
   "source": [
    "def transform_aggregates(s):\n",
    "    return s.replace('?__agg_', '?agg').replace('__', '')"
   ]
  },
  {
   "cell_type": "code",
   "execution_count": 11,
   "metadata": {},
   "outputs": [],
   "source": [
    "def parse_triple(triple):\n",
    "    return {\n",
    "        'subject': triple[0].toPython(),\n",
    "        'predicate': triple[1].toPython(),\n",
    "        'object': triple[2].toPython()\n",
    "    }"
   ]
  },
  {
   "cell_type": "code",
   "execution_count": 64,
   "metadata": {},
   "outputs": [],
   "source": [
    "def parse_extends(expression):\n",
    "    extends = []\n",
    "    while expression.name == 'Extend':\n",
    "        extends.append({'expr': transform_aggregates(expression['expr'].toPython()),'var':expression['var'].toPython()})\n",
    "        expression = expression['p']\n",
    "    return extends"
   ]
  },
  {
   "cell_type": "code",
   "execution_count": 56,
   "metadata": {},
   "outputs": [],
   "source": [
    "# def parse_groupby(expression):\n",
    "#     parsed_expression = {\n",
    "#         'variables': [],\n",
    "#         'aggregates': []\n",
    "#     }\n",
    "#     aggregated_variables = []\n",
    "#     parsed_expression['variables'] = [variable.toPython() for variable in expression['p']['expr']]\n",
    "    \n",
    "#     aggregate_mapping = {\n",
    "#         'Aggregate_Sample': 'Sample',\n",
    "#         'Aggregate_Min': 'Min',\n",
    "#         'Aggregate_Max': 'Max',\n",
    "#         'Aggregate_Count': 'Count',\n",
    "#         'Aggregate_Sum': 'Sum',\n",
    "#         'Aggregate_Avg': 'Avg',\n",
    "#         'Aggregate_GroupConcat': 'GroupConcat'\n",
    "#     }\n",
    "    \n",
    "#     for agg in expression['A']:\n",
    "#         agg_name = agg.name\n",
    "#         if agg_name in aggregate_mapping:\n",
    "#             parsed_expression['aggregates'].append({\n",
    "#                 'type': aggregate_mapping[agg_name],\n",
    "#                 'variable': agg['vars'].toPython(),\n",
    "#                 'res': transform_aggregates(agg['res'].toPython())\n",
    "#             })\n",
    "#             aggregated_variables.append(transform_aggregates(agg['res'].toPython()))\n",
    "    \n",
    "#     return parsed_expression, aggregated_variables"
   ]
  },
  {
   "cell_type": "code",
   "execution_count": 60,
   "metadata": {},
   "outputs": [],
   "source": [
    "def parse_groupby(expression):\n",
    "    \n",
    "    parsed_expression = {\n",
    "        'variables' :[],\n",
    "        'aggregates': []\n",
    "    } \n",
    "    aggregated_variables = []\n",
    "    parsed_expression['variables'] = [variable.toPython() for variable in expression['p']['expr']]\n",
    "    for agg in expression['A']:\n",
    "        if agg.name == 'Aggregate_Sample' and 'distinct' in agg.keys():\n",
    "            parsed_expression['aggregates'].append( {\n",
    "                'type':'Sample',\n",
    "                'variable': agg['vars'].toPython(),\n",
    "                'res' : transform_aggregates(transform_aggregates(agg['res'].toPython()))\n",
    "            })\n",
    "            aggregated_variables.append(transform_aggregates(agg['res'].toPython()))\n",
    "        elif agg.name == 'Aggregate_Min':\n",
    "            parsed_expression['aggregates'].append( {\n",
    "                'type':'Min',\n",
    "                'variable': agg['vars'].toPython(),\n",
    "                'res' : transform_aggregates(transform_aggregates(agg['res'].toPython()))\n",
    "            })\n",
    "            aggregated_variables.append(transform_aggregates(agg['res'].toPython()))\n",
    "        elif agg.name == 'Aggregate_Max':\n",
    "            parsed_expression['aggregates'].append( {\n",
    "                'type':'Max',\n",
    "                'variable': agg['vars'].toPython(),\n",
    "                'res' : transform_aggregates(agg['res'].toPython())\n",
    "            })\n",
    "            aggregated_variables.append(transform_aggregates(agg['res'].toPython()))\n",
    "        elif agg.name == 'Aggregate_Count':\n",
    "            parsed_expression['aggregates'].append( {\n",
    "                'type':'Count',\n",
    "                'variable': agg['vars'].toPython(),\n",
    "                'res' : transform_aggregates(agg['res'].toPython())\n",
    "            })\n",
    "            aggregated_variables.append(transform_aggregates(agg['res'].toPython()))\n",
    "        elif agg.name == 'Aggregate_Sum':\n",
    "            parsed_expression['aggregates'].append( {\n",
    "                'type':'Sum',\n",
    "                'variable': agg['vars'].toPython(),\n",
    "                'res' : transform_aggregates(agg['res'].toPython())\n",
    "            })\n",
    "            aggregated_variables.append(transform_aggregates(agg['res'].toPython()))\n",
    "        elif agg.name == 'Aggregate_Avg':\n",
    "            parsed_expression['aggregates'].append( {\n",
    "                'type':'Avg',\n",
    "                'variable': agg['vars'].toPython(),\n",
    "                'res' : transform_aggregates(agg['res'].toPython())\n",
    "            })\n",
    "            aggregated_variables.append(transform_aggregates(agg['res'].toPython()))\n",
    "        elif agg.name == 'Aggregate_GroupConcat':\n",
    "            parsed_expression['aggregates'].append( {\n",
    "                'type':'GroupConcat',\n",
    "                'variable': agg['vars'].toPython(),\n",
    "                'res' : transform_aggregates(agg['res'].toPython())\n",
    "            })\n",
    "            aggregated_variables.append(transform_aggregates(agg['res'].toPython()))\n",
    "    return parsed_expression,aggregated_variables\n",
    "        "
   ]
  },
  {
   "cell_type": "code",
   "execution_count": 62,
   "metadata": {},
   "outputs": [],
   "source": [
    "def convert_to_query_structure(input_dict):\n",
    "    query_dict = {\n",
    "    }\n",
    "    tmp_dict = input_dict['p']\n",
    "    project = tmp_dict['PV']\n",
    "    query_dict['project'] = [p.toPython() for p in project]\n",
    "    \n",
    "    try:\n",
    "        if tmp_dict['p'].name=='OrderBy':\n",
    "            order_condition = tmp_dict['p']['expr']\n",
    "            query_dict['order'] = []\n",
    "            for condition in order_condition:\n",
    "                query_dict['order'].append(condition['expr'].toPython())\n",
    "            tmp_dict = tmp_dict['p']\n",
    "    except KeyError:\n",
    "        pass\n",
    "    try:\n",
    "        if tmp_dict['p'].name=='Extend':\n",
    "            extends = parse_extends(tmp_dict['p'])\n",
    "            for i in range(len(query_dict['project'])+1):\n",
    "                tmp_dict = tmp_dict['p']\n",
    "            grouped,aggregates = parse_groupby(tmp_dict)\n",
    "            print(aggregates)\n",
    "            query_dict['extend'] =  [item for item in extends if item['expr'] in aggregates]\n",
    "            query_dict['group'] = grouped\n",
    "            tmp_dict = tmp_dict['p']['p']\n",
    "    except KeyError:\n",
    "        pass\n",
    "    \n",
    "    try:\n",
    "        filter_condition = tmp_dict['p']['expr']\n",
    "        query_dict['filter'] = parse_filterings(filter_condition)\n",
    "        tmp_dict = tmp_dict['p']\n",
    "    except KeyError:\n",
    "        pass\n",
    "    \n",
    "    try:\n",
    "        bgp_triples = tmp_dict['p']['triples']\n",
    "        query_dict['bgp'] = []\n",
    "        for triple in bgp_triples:\n",
    "            query_dict['bgp'].append(parse_triple(triple))\n",
    "    except KeyError:\n",
    "        pass\n",
    "\n",
    "    return query_dict\n"
   ]
  },
  {
   "cell_type": "code",
   "execution_count": 65,
   "metadata": {},
   "outputs": [
    {
     "name": "stdout",
     "output_type": "stream",
     "text": [
      "['?agg2', '?agg3']\n"
     ]
    },
    {
     "data": {
      "text/plain": [
       "{'project': ['?firstPerson', '?thirdPerson', '?anyFood', '?minfood'],\n",
       " 'order': ['?firstPerson'],\n",
       " 'extend': [{'expr': '?agg3', 'var': '?minfood'},\n",
       "  {'expr': '?agg2', 'var': '?anyFood'}],\n",
       " 'group': {'variables': ['?firstPerson', '?secondPerson'],\n",
       "  'aggregates': [{'type': 'Avg', 'variable': '?food', 'res': '?agg2'},\n",
       "   {'type': 'GroupConcat', 'variable': '?food', 'res': '?agg3'}]},\n",
       " 'bgp': [{'subject': '?firstPerson',\n",
       "   'predicate': 'http://www.w3.org/1999/02/22-rdf-syntax-ns#type',\n",
       "   'object': 'http://schema.org/Person'},\n",
       "  {'subject': '?secondPerson',\n",
       "   'predicate': 'http://www.w3.org/1999/02/22-rdf-syntax-ns#type',\n",
       "   'object': 'http://schema.org/Person'},\n",
       "  {'subject': '?firstPerson',\n",
       "   'predicate': 'http://www.w3.org/2004/02/skos/core#subject',\n",
       "   'object': '?food'},\n",
       "  {'subject': '?secondPerson',\n",
       "   'predicate': 'http://www.w3.org/2004/02/skos/core#subject',\n",
       "   'object': '?food'}]}"
      ]
     },
     "execution_count": 65,
     "metadata": {},
     "output_type": "execute_result"
    }
   ],
   "source": [
    "convert_to_query_structure(algebra_dict)"
   ]
  },
  {
   "cell_type": "code",
   "execution_count": 15,
   "metadata": {},
   "outputs": [],
   "source": [
    "def parse_prefixes(prefix_string):\n",
    "    prefixes = {}\n",
    "    pattern = re.compile(r'PREFIX\\s+(\\w+):\\s*<(.+?)>')\n",
    "    matches = pattern.findall(prefix_string)\n",
    "    for match in matches:\n",
    "        prefix, uri = match\n",
    "        prefixes[prefix] = uri\n",
    "    return prefixes"
   ]
  },
  {
   "cell_type": "code",
   "execution_count": 16,
   "metadata": {},
   "outputs": [],
   "source": [
    "def convert_query_text(query_text):\n",
    "    query_dict = {\n",
    "        'prefixes': {},\n",
    "        'query': {}\n",
    "    }\n",
    "    parse_results = sparql.parser.parseQuery(query_text)\n",
    "    algebra_result = sparql.algebra.translateQuery(parse_results)\n",
    "    algebra_dict = dict(algebra_result.algebra)\n",
    "    query_dict['prefixes'] = parse_prefixes(query_text)\n",
    "    query_dict['query'] = convert_to_query_structure(algebra_dict)\n",
    "    return query_dict   "
   ]
  },
  {
   "cell_type": "code",
   "execution_count": 17,
   "metadata": {},
   "outputs": [
    {
     "name": "stdout",
     "output_type": "stream",
     "text": [
      "AggregateJoin_AggregateJoin_{'A': [Aggregate_Sample_{'vars': rdflib.term.Variable('secondPerson'), 'res': rdflib.term.Variable('__agg_1__'), '_vars': {rdflib.term.Variable('__agg_1__'), rdflib.term.Variable('secondPerson')}}, Aggregate_Avg_{'distinct': [], 'vars': rdflib.term.Variable('food'), 'res': rdflib.term.Variable('__agg_2__'), '_vars': {rdflib.term.Variable('__agg_2__'), rdflib.term.Variable('food')}}, Aggregate_GroupConcat_{'distinct': [], 'vars': rdflib.term.Variable('food'), 'res': rdflib.term.Variable('__agg_3__'), '_vars': {rdflib.term.Variable('food'), rdflib.term.Variable('__agg_3__')}}, Aggregate_Sample_{'vars': rdflib.term.Variable('firstPerson'), 'res': rdflib.term.Variable('__agg_4__'), '_vars': {rdflib.term.Variable('__agg_4__'), rdflib.term.Variable('firstPerson')}}], 'p': Group_{'p': Filter_{'expr': ConditionalAndExpression_{'expr': RelationalExpression_{'expr': rdflib.term.Variable('firstPerson'), 'op': '!=', 'other': rdflib.term.Variable('secondPerson'), '_vars': set()}, 'other': [RelationalExpression_{'expr': Builtin_STR_{'arg': rdflib.term.Variable('firstPerson'), '_vars': {rdflib.term.Variable('firstPerson')}}, 'op': '<', 'other': Builtin_STR_{'arg': rdflib.term.Variable('secondPerson'), '_vars': {rdflib.term.Variable('secondPerson')}}, '_vars': set()}], '_vars': set()}, 'p': BGP_{'triples': [(rdflib.term.Variable('firstPerson'), rdflib.term.URIRef('http://www.w3.org/1999/02/22-rdf-syntax-ns#type'), rdflib.term.URIRef('http://schema.org/Person')), (rdflib.term.Variable('secondPerson'), rdflib.term.URIRef('http://www.w3.org/1999/02/22-rdf-syntax-ns#type'), rdflib.term.URIRef('http://schema.org/Person')), (rdflib.term.Variable('firstPerson'), rdflib.term.URIRef('http://www.w3.org/2004/02/skos/core#subject'), rdflib.term.Variable('food')), (rdflib.term.Variable('secondPerson'), rdflib.term.URIRef('http://www.w3.org/2004/02/skos/core#subject'), rdflib.term.Variable('food'))], '_vars': {rdflib.term.Variable('firstPerson'), rdflib.term.Variable('secondPerson'), rdflib.term.Variable('food')}}, '_vars': {rdflib.term.Variable('firstPerson'), rdflib.term.Variable('secondPerson'), rdflib.term.Variable('food')}}, 'expr': [rdflib.term.Variable('firstPerson'), rdflib.term.Variable('secondPerson')], '_vars': {rdflib.term.Variable('firstPerson'), rdflib.term.Variable('secondPerson'), rdflib.term.Variable('food')}}, '_vars': {rdflib.term.Variable('__agg_4__'), rdflib.term.Variable('__agg_1__'), rdflib.term.Variable('firstPerson'), rdflib.term.Variable('__agg_2__'), rdflib.term.Variable('secondPerson'), rdflib.term.Variable('food'), rdflib.term.Variable('__agg_3__')}}\n"
     ]
    },
    {
     "data": {
      "text/plain": [
       "{'prefixes': {'xsd': 'http://www.w3.org/2001/XMLSchema#',\n",
       "  'schema': 'http://schema.org/',\n",
       "  'rdf': 'http://www.w3.org/1999/02/22-rdf-syntax-ns#',\n",
       "  'rdfs': 'http://www.w3.org/2000/01/rdf-schema#',\n",
       "  'skos': 'http://www.w3.org/2004/02/skos/core#',\n",
       "  'lab': 'https://mini.pw.edu.pl/sdp/lab3/'},\n",
       " 'query': {'project': ['?firstPerson', '?thirdPerson', '?anyFood', '?minfood'],\n",
       "  'order': ['?firstPerson'],\n",
       "  'group': {'variables': ['?firstPerson', '?secondPerson'],\n",
       "   'aggregates': [{'type': 'Avg', 'variable': '?food'},\n",
       "    {'type': 'GroupConcat', 'variable': '?food'}]},\n",
       "  'bgp': [{'subject': '?firstPerson',\n",
       "    'predicate': 'http://www.w3.org/1999/02/22-rdf-syntax-ns#type',\n",
       "    'object': 'http://schema.org/Person'},\n",
       "   {'subject': '?secondPerson',\n",
       "    'predicate': 'http://www.w3.org/1999/02/22-rdf-syntax-ns#type',\n",
       "    'object': 'http://schema.org/Person'},\n",
       "   {'subject': '?firstPerson',\n",
       "    'predicate': 'http://www.w3.org/2004/02/skos/core#subject',\n",
       "    'object': '?food'},\n",
       "   {'subject': '?secondPerson',\n",
       "    'predicate': 'http://www.w3.org/2004/02/skos/core#subject',\n",
       "    'object': '?food'}]}}"
      ]
     },
     "execution_count": 17,
     "metadata": {},
     "output_type": "execute_result"
    }
   ],
   "source": [
    "convert_query_text(query_text)"
   ]
  }
 ],
 "metadata": {
  "kernelspec": {
   "display_name": "base",
   "language": "python",
   "name": "python3"
  },
  "language_info": {
   "codemirror_mode": {
    "name": "ipython",
    "version": 3
   },
   "file_extension": ".py",
   "mimetype": "text/x-python",
   "name": "python",
   "nbconvert_exporter": "python",
   "pygments_lexer": "ipython3",
   "version": "3.11.5"
  }
 },
 "nbformat": 4,
 "nbformat_minor": 2
}
