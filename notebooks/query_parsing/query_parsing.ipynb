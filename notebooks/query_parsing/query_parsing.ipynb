{
 "cells": [
  {
   "cell_type": "code",
   "execution_count": 139,
   "metadata": {},
   "outputs": [],
   "source": [
    "import rdflib\n",
    "from rdflib.plugins import sparql\n",
    "import re\n",
    "import numpy as np "
   ]
  },
  {
   "cell_type": "code",
   "execution_count": 140,
   "metadata": {},
   "outputs": [],
   "source": [
    "query_text = \"\"\"\n",
    "PREFIX geo: <http://www.w3.org/2003/01/geo/wgs84_pos#>\n",
    "PREFIX schema: <http://schema.org/>\n",
    "PREFIX rdf: <http://www.w3.org/1999/02/22-rdf-syntax-ns#>\n",
    "SELECT ?person ?name WHERE {\n",
    "  ?person rdf:type schema:Person ;\n",
    "  \t\tschema:height ?height;\n",
    "    \tschema:givenName ?name .\n",
    "  filter(?name=\"bartek\" &&(?height>170 || 180 > ?height))\n",
    "} \n",
    "ORDER BY ?name ?height\n",
    "\"\"\"\n",
    "query  = sparql.processor.prepareQuery(query_text)"
   ]
  },
  {
   "cell_type": "code",
   "execution_count": 141,
   "metadata": {},
   "outputs": [
    {
     "name": "stdout",
     "output_type": "stream",
     "text": [
      "SelectQuery(\n",
      "    p = Project(\n",
      "        p = OrderBy(\n",
      "            p = Filter(\n",
      "                expr = ConditionalAndExpression(\n",
      "                    expr = RelationalExpression(\n",
      "                        expr = name\n",
      "                        op = =\n",
      "                        other = bartek\n",
      "                        _vars = set()\n",
      "                        )\n",
      "                    other = [ConditionalOrExpression_{'expr': RelationalExpression_{'expr': rdflib.term.Variable('height'), 'op': '>', 'other': rdflib.term.Literal('170', datatype=rdflib.term.URIRef('http://www.w3.org/2001/XMLSchema#integer')), '_vars': set()}, 'other': [RelationalExpression_{'expr': rdflib.term.Literal('180', datatype=rdflib.term.URIRef('http://www.w3.org/2001/XMLSchema#integer')), 'op': '>', 'other': rdflib.term.Variable('height'), '_vars': set()}], '_vars': set()}]\n",
      "                    _vars = set()\n",
      "                    )\n",
      "                p = BGP(\n",
      "                    triples = [(rdflib.term.Variable('person'), rdflib.term.URIRef('http://www.w3.org/1999/02/22-rdf-syntax-ns#type'), rdflib.term.URIRef('http://schema.org/Person')), (rdflib.term.Variable('person'), rdflib.term.URIRef('http://schema.org/givenName'), rdflib.term.Variable('name')), (rdflib.term.Variable('person'), rdflib.term.URIRef('http://schema.org/height'), rdflib.term.Variable('height'))]\n",
      "                    _vars = {rdflib.term.Variable('name'), rdflib.term.Variable('person'), rdflib.term.Variable('height')}\n",
      "                    )\n",
      "                _vars = {rdflib.term.Variable('name'), rdflib.term.Variable('person'), rdflib.term.Variable('height')}\n",
      "                )\n",
      "            expr = [OrderCondition_{'expr': rdflib.term.Variable('name'), 'order': None, '_vars': {rdflib.term.Variable('name')}}, OrderCondition_{'expr': rdflib.term.Variable('height'), 'order': None, '_vars': {rdflib.term.Variable('height')}}]\n",
      "            _vars = {rdflib.term.Variable('name'), rdflib.term.Variable('person'), rdflib.term.Variable('height')}\n",
      "            )\n",
      "        PV = [rdflib.term.Variable('person'), rdflib.term.Variable('name')]\n",
      "        _vars = {rdflib.term.Variable('name'), rdflib.term.Variable('person'), rdflib.term.Variable('height')}\n",
      "        )\n",
      "    datasetClause = None\n",
      "    PV = [rdflib.term.Variable('person'), rdflib.term.Variable('name')]\n",
      "    _vars = {rdflib.term.Variable('name'), rdflib.term.Variable('person'), rdflib.term.Variable('height')}\n",
      "    )\n"
     ]
    }
   ],
   "source": [
    "parse_results = sparql.parser.parseQuery(query_text)\n",
    "algebra_result = sparql.algebra.translateQuery(parse_results)\n",
    "sparql.algebra.pprintAlgebra(algebra_result)"
   ]
  },
  {
   "cell_type": "code",
   "execution_count": 142,
   "metadata": {},
   "outputs": [],
   "source": [
    "algebra_dict = dict(algebra_result.algebra)"
   ]
  },
  {
   "cell_type": "code",
   "execution_count": 143,
   "metadata": {},
   "outputs": [],
   "source": [
    "def get_literal(literal):\n",
    "    type = literal.datatype\n",
    "    if type is not None:\n",
    "        return {'value':literal.toPython(),\"type\":literal.datatype.toPython()}\n",
    "    else:\n",
    "        return {'value':literal.toPython(),\"type\":literal.datatype}"
   ]
  },
  {
   "cell_type": "code",
   "execution_count": 144,
   "metadata": {},
   "outputs": [],
   "source": [
    "def get_variable(variable):\n",
    "    return variable.toPython()"
   ]
  },
  {
   "cell_type": "code",
   "execution_count": 145,
   "metadata": {},
   "outputs": [],
   "source": [
    "def parse_filterings(expression):\n",
    "    if expression.name == 'RelationalExpression':\n",
    "        if isinstance(expression['other'], rdflib.term.Literal):\n",
    "            other = get_literal(expression['other'])\n",
    "        else:\n",
    "            other = get_variable(expression['other'])\n",
    "        if isinstance(expression['expr'], rdflib.term.Literal):\n",
    "            expr = get_literal(expression['expr'])\n",
    "        else:\n",
    "            expr = get_variable(expression['expr'])\n",
    "        return {\n",
    "            'op': expression['op'],\n",
    "            'expr': expr,\n",
    "            'other': other,\n",
    "        }\n",
    "    elif expression.name == 'ConditionalAndExpression':\n",
    "        parsed_expression = {\n",
    "            'logic' : 'and',\n",
    "            'expr': parse_filterings(expression['expr']),\n",
    "            'other': parse_filterings(expression['other'][0])\n",
    "        }\n",
    "        return parsed_expression\n",
    "    elif expression.name == 'ConditionalOrExpression':\n",
    "        parsed_expression = {\n",
    "            'logic' : 'or',\n",
    "            'expr': parse_filterings(expression['expr']),\n",
    "            'other': parse_filterings(expression['other'][0])\n",
    "        }\n",
    "        return parsed_expression\n",
    "    else:\n",
    "        return None "
   ]
  },
  {
   "cell_type": "code",
   "execution_count": 146,
   "metadata": {},
   "outputs": [],
   "source": [
    "def parse_triple(triple):\n",
    "    return {\n",
    "        'subject': triple[0].toPython(),\n",
    "        'predicate': triple[1].toPython(),\n",
    "        'object': triple[2].toPython()\n",
    "    }"
   ]
  },
  {
   "cell_type": "code",
   "execution_count": 147,
   "metadata": {},
   "outputs": [],
   "source": [
    "def convert_to_query_structure(input_dict):\n",
    "    query_dict = {\n",
    "    }\n",
    "    tmp_dict = input_dict['p']\n",
    "    project = tmp_dict['PV']\n",
    "    query_dict['project'] = [p.toPython() for p in project]\n",
    "    \n",
    "    try:\n",
    "        order_condition = tmp_dict['p']['expr']\n",
    "        query_dict['order'] = []\n",
    "        for condition in order_condition:\n",
    "            query_dict['order'].append(condition['expr'].toPython())\n",
    "        tmp_dict = tmp_dict['p']\n",
    "    except KeyError:\n",
    "        pass\n",
    "    \n",
    "    try:\n",
    "        filter_condition = tmp_dict['p']['expr']\n",
    "        query_dict['filter'] = parse_filterings(filter_condition)\n",
    "        tmp_dict = tmp_dict['p']\n",
    "    except KeyError:\n",
    "        pass\n",
    "    \n",
    "    try:\n",
    "        bgp_triples = tmp_dict['p']['triples']\n",
    "        query_dict['bgp'] = []\n",
    "        for triple in bgp_triples:\n",
    "            query_dict['bgp'].append(parse_triple(triple))\n",
    "    except KeyError:\n",
    "        pass\n",
    "\n",
    "    return query_dict\n"
   ]
  },
  {
   "cell_type": "code",
   "execution_count": 148,
   "metadata": {},
   "outputs": [
    {
     "data": {
      "text/plain": [
       "{'project': ['?person', '?name'],\n",
       " 'order': ['?name', '?height'],\n",
       " 'filter': {'logic': 'and',\n",
       "  'expr': {'op': '=',\n",
       "   'expr': '?name',\n",
       "   'other': {'value': 'bartek', 'type': None}},\n",
       "  'other': {'logic': 'or',\n",
       "   'expr': {'op': '>',\n",
       "    'expr': '?height',\n",
       "    'other': {'value': 170,\n",
       "     'type': 'http://www.w3.org/2001/XMLSchema#integer'}},\n",
       "   'other': {'op': '>',\n",
       "    'expr': {'value': 180, 'type': 'http://www.w3.org/2001/XMLSchema#integer'},\n",
       "    'other': '?height'}}},\n",
       " 'bgp': [{'subject': '?person',\n",
       "   'predicate': 'http://www.w3.org/1999/02/22-rdf-syntax-ns#type',\n",
       "   'object': 'http://schema.org/Person'},\n",
       "  {'subject': '?person',\n",
       "   'predicate': 'http://schema.org/givenName',\n",
       "   'object': '?name'},\n",
       "  {'subject': '?person',\n",
       "   'predicate': 'http://schema.org/height',\n",
       "   'object': '?height'}]}"
      ]
     },
     "execution_count": 148,
     "metadata": {},
     "output_type": "execute_result"
    }
   ],
   "source": [
    "convert_to_query_structure(algebra_dict)"
   ]
  },
  {
   "cell_type": "code",
   "execution_count": 149,
   "metadata": {},
   "outputs": [],
   "source": [
    "def parse_prefixes(prefix_string):\n",
    "    prefixes = {}\n",
    "    pattern = re.compile(r'PREFIX\\s+(\\w+):\\s*<(.+?)>')\n",
    "    matches = pattern.findall(prefix_string)\n",
    "    for match in matches:\n",
    "        prefix, uri = match\n",
    "        prefixes[prefix] = uri\n",
    "    return prefixes"
   ]
  },
  {
   "cell_type": "code",
   "execution_count": 150,
   "metadata": {},
   "outputs": [
    {
     "data": {
      "text/plain": [
       "{'geo': 'http://www.w3.org/2003/01/geo/wgs84_pos#',\n",
       " 'schema': 'http://schema.org/',\n",
       " 'rdf': 'http://www.w3.org/1999/02/22-rdf-syntax-ns#'}"
      ]
     },
     "execution_count": 150,
     "metadata": {},
     "output_type": "execute_result"
    }
   ],
   "source": [
    "parse_prefixes(query_text)"
   ]
  },
  {
   "cell_type": "code",
   "execution_count": 151,
   "metadata": {},
   "outputs": [],
   "source": [
    "def convert_query_text(query_text):\n",
    "    query_dict = {\n",
    "        'prefixes': {},\n",
    "        'query': {}\n",
    "    }\n",
    "    parse_results = sparql.parser.parseQuery(query_text)\n",
    "    algebra_result = sparql.algebra.translateQuery(parse_results)\n",
    "    algebra_dict = dict(algebra_result.algebra)\n",
    "    query_dict['prefixes'] = parse_prefixes(query_text)\n",
    "    query_dict['query'] = convert_to_query_structure(algebra_dict)\n",
    "    return query_dict   "
   ]
  },
  {
   "cell_type": "code",
   "execution_count": 152,
   "metadata": {},
   "outputs": [],
   "source": [
    "prefix_string = \"\"\"\n",
    "PREFIX geo: <http://www.w3.org/2003/01/geo/wgs84_pos#>\n",
    "PREFIX schema: <http://schema.org/>\n",
    "PREFIX rdf: <http://www.w3.org/1999/02/22-rdf-syntax-ns#>\n",
    "\"\"\""
   ]
  },
  {
   "cell_type": "code",
   "execution_count": 153,
   "metadata": {},
   "outputs": [
    {
     "data": {
      "text/plain": [
       "{'prefixes': {'geo': 'http://www.w3.org/2003/01/geo/wgs84_pos#',\n",
       "  'schema': 'http://schema.org/',\n",
       "  'rdf': 'http://www.w3.org/1999/02/22-rdf-syntax-ns#'},\n",
       " 'query': {'project': ['?person', '?name'],\n",
       "  'order': ['?name', '?height'],\n",
       "  'filter': {'logic': 'and',\n",
       "   'expr': {'op': '=',\n",
       "    'expr': '?name',\n",
       "    'other': {'value': 'bartek', 'type': None}},\n",
       "   'other': {'logic': 'or',\n",
       "    'expr': {'op': '>',\n",
       "     'expr': '?height',\n",
       "     'other': {'value': 170,\n",
       "      'type': 'http://www.w3.org/2001/XMLSchema#integer'}},\n",
       "    'other': {'op': '>',\n",
       "     'expr': {'value': 180,\n",
       "      'type': 'http://www.w3.org/2001/XMLSchema#integer'},\n",
       "     'other': '?height'}}},\n",
       "  'bgp': [{'subject': '?person',\n",
       "    'predicate': 'http://www.w3.org/1999/02/22-rdf-syntax-ns#type',\n",
       "    'object': 'http://schema.org/Person'},\n",
       "   {'subject': '?person',\n",
       "    'predicate': 'http://schema.org/givenName',\n",
       "    'object': '?name'},\n",
       "   {'subject': '?person',\n",
       "    'predicate': 'http://schema.org/height',\n",
       "    'object': '?height'}]}}"
      ]
     },
     "execution_count": 153,
     "metadata": {},
     "output_type": "execute_result"
    }
   ],
   "source": [
    "convert_query_text(query_text)"
   ]
  }
 ],
 "metadata": {
  "kernelspec": {
   "display_name": "base",
   "language": "python",
   "name": "python3"
  },
  "language_info": {
   "codemirror_mode": {
    "name": "ipython",
    "version": 3
   },
   "file_extension": ".py",
   "mimetype": "text/x-python",
   "name": "python",
   "nbconvert_exporter": "python",
   "pygments_lexer": "ipython3",
   "version": "3.11.5"
  }
 },
 "nbformat": 4,
 "nbformat_minor": 2
}
