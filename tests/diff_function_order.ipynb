{
 "cells": [
  {
   "cell_type": "code",
   "execution_count": 2,
   "metadata": {},
   "outputs": [],
   "source": [
    "import sys  \n",
    "sys.path.insert(1, '/Users/szymonszmajdzinski/Documents/Studia/Magisterskie/Semestr_2/KG/Plagiarism-detector-for-SPARQL-queries/PDSPARQL')\n",
    "import calculate_distance"
   ]
  },
  {
   "cell_type": "markdown",
   "metadata": {},
   "source": [
    "## Ex. 1 - Filter expression is splitted into two filter expressions"
   ]
  },
  {
   "cell_type": "code",
   "execution_count": 5,
   "metadata": {},
   "outputs": [
    {
     "name": "stdout",
     "output_type": "stream",
     "text": [
      "Distance: 0.0\n"
     ]
    }
   ],
   "source": [
    "query_text1 = \"\"\"\n",
    "PREFIX geo: <http://www.w3.org/2003/01/geo/wgs84_pos#>\n",
    "PREFIX schema: <http://schema.org/>\n",
    "PREFIX rdf: <http://www.w3.org/1999/02/22-rdf-syntax-ns#>\n",
    "SELECT ?person ?name WHERE {\n",
    "  ?person rdf:type schema:Person ;\n",
    "  \t\tschema:height ?height;\n",
    "    \tschema:givenName ?name .\n",
    "  filter(?name=\"bartek\")\n",
    "  filter(?height>170 && 180 > ?height)\n",
    "} \n",
    "ORDER BY ?name ?height\n",
    "\"\"\"\n",
    "\n",
    "query_text2 = \"\"\"\n",
    "PREFIX geo: <http://www.w3.org/2003/01/geo/wgs84_pos#>\n",
    "PREFIX schema: <http://schema.org/>\n",
    "PREFIX rdf: <http://www.w3.org/1999/02/22-rdf-syntax-ns#>\n",
    "SELECT ?person ?name WHERE {\n",
    "  ?person rdf:type schema:Person ;\n",
    "  \t\tschema:height ?height;\n",
    "    \tschema:givenName ?name .\n",
    "  filter(?name=\"bartek\")                     # Firts filter\n",
    "  filter(180 > ?height && ?height>170)       # Second filter\n",
    "} \n",
    "ORDER BY ?name ?height\n",
    "\"\"\"\n",
    "\n",
    "distance = calculate_distance.compare_queries(query_text1, query_text2)"
   ]
  },
  {
   "cell_type": "markdown",
   "metadata": {},
   "source": [
    "## Ex.2 - Expresions in filter are switched "
   ]
  },
  {
   "cell_type": "code",
   "execution_count": 6,
   "metadata": {},
   "outputs": [
    {
     "name": "stdout",
     "output_type": "stream",
     "text": [
      "Distance: 0.0\n"
     ]
    }
   ],
   "source": [
    "query_text1 = \"\"\"\n",
    "PREFIX geo: <http://www.w3.org/2003/01/geo/wgs84_pos#>\n",
    "PREFIX schema: <http://schema.org/>\n",
    "PREFIX rdf: <http://www.w3.org/1999/02/22-rdf-syntax-ns#>\n",
    "SELECT ?person ?name WHERE {\n",
    "  ?person rdf:type schema:Person ;\n",
    "  \t\tschema:height ?height;\n",
    "    \tschema:givenName ?name .\n",
    "  filter(?name=\"bartek\")\n",
    "  filter(?height>170 && 180 > ?height)\n",
    "} \n",
    "ORDER BY ?name ?height\n",
    "\"\"\"\n",
    "\n",
    "query_text2 = \"\"\"\n",
    "PREFIX geo: <http://www.w3.org/2003/01/geo/wgs84_pos#>\n",
    "PREFIX schema: <http://schema.org/>\n",
    "PREFIX rdf: <http://www.w3.org/1999/02/22-rdf-syntax-ns#>\n",
    "SELECT ?person ?name WHERE {\n",
    "  ?person rdf:type schema:Person ;\n",
    "  \t\tschema:height ?height;\n",
    "    \tschema:givenName ?name .\n",
    "  filter(?name=\"bartek\")\n",
    "  filter(180 > ?height && ?height>170)\n",
    "} \n",
    "ORDER BY ?name ?height\n",
    "\"\"\"\n",
    "\n",
    "distance = calculate_distance.compare_queries(query_text1, query_text2)"
   ]
  },
  {
   "cell_type": "markdown",
   "metadata": {},
   "source": [
    "## Ex.3 A > B vs B < A"
   ]
  },
  {
   "cell_type": "code",
   "execution_count": 8,
   "metadata": {},
   "outputs": [
    {
     "name": "stdout",
     "output_type": "stream",
     "text": [
      "Distance: 0.0\n"
     ]
    }
   ],
   "source": [
    "query_text1 = \"\"\"\n",
    "PREFIX geo: <http://www.w3.org/2003/01/geo/wgs84_pos#>\n",
    "PREFIX schema: <http://schema.org/>\n",
    "PREFIX rdf: <http://www.w3.org/1999/02/22-rdf-syntax-ns#>\n",
    "SELECT ?person ?name WHERE {\n",
    "  ?person rdf:type schema:Person ;\n",
    "  \t\tschema:height ?height;\n",
    "    \tschema:givenName ?name .\n",
    "  filter(?name=\"bartek\")\n",
    "  filter(?height > 170)\n",
    "} \n",
    "ORDER BY ?name ?height\n",
    "\"\"\"\n",
    "\n",
    "query_text2 = \"\"\"\n",
    "PREFIX geo: <http://www.w3.org/2003/01/geo/wgs84_pos#>\n",
    "PREFIX schema: <http://schema.org/>\n",
    "PREFIX rdf: <http://www.w3.org/1999/02/22-rdf-syntax-ns#>\n",
    "SELECT ?person ?name WHERE {\n",
    "  ?person rdf:type schema:Person ;\n",
    "  \t\tschema:height ?height;\n",
    "    \tschema:givenName ?name .\n",
    "  filter(?name=\"bartek\")\n",
    "  filter(170 < ?height)\n",
    "} \n",
    "ORDER BY ?name ?height\n",
    "\"\"\"\n",
    "distance = calculate_distance.compare_queries(query_text1, query_text2)"
   ]
  },
  {
   "cell_type": "code",
   "execution_count": null,
   "metadata": {},
   "outputs": [],
   "source": []
  }
 ],
 "metadata": {
  "kernelspec": {
   "display_name": "kg",
   "language": "python",
   "name": "python3"
  },
  "language_info": {
   "codemirror_mode": {
    "name": "ipython",
    "version": 3
   },
   "file_extension": ".py",
   "mimetype": "text/x-python",
   "name": "python",
   "nbconvert_exporter": "python",
   "pygments_lexer": "ipython3",
   "version": "3.10.13"
  }
 },
 "nbformat": 4,
 "nbformat_minor": 2
}
