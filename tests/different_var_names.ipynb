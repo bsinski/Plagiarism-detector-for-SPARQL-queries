{
 "cells": [
  {
   "cell_type": "code",
   "execution_count": 2,
   "metadata": {},
   "outputs": [],
   "source": [
    "import sys  \n",
    "sys.path.insert(1, '/Users/szymonszmajdzinski/Documents/Studia/Magisterskie/Semestr_2/KG/Plagiarism-detector-for-SPARQL-queries/PDSPARQL')\n",
    "import calculate_distance"
   ]
  },
  {
   "cell_type": "markdown",
   "metadata": {},
   "source": [
    "## Ex.1 - Changed variables names"
   ]
  },
  {
   "cell_type": "code",
   "execution_count": 8,
   "metadata": {},
   "outputs": [
    {
     "name": "stdout",
     "output_type": "stream",
     "text": [
      "Distance: 0.0\n"
     ]
    }
   ],
   "source": [
    "query_text1 = \"\"\"\n",
    "PREFIX geo: <http://www.w3.org/2003/01/geo/wgs84_pos#>\n",
    "PREFIX schema: <http://schema.org/>\n",
    "PREFIX rdf: <http://www.w3.org/1999/02/22-rdf-syntax-ns#>\n",
    "SELECT ?people ?nick WHERE {\n",
    "  ?people rdf:type schema:Person ;\n",
    "  \t\tschema:height ?tall;\n",
    "    \tschema:givenName ?nick .\n",
    "  filter(?nick=\"bartek\" &&(?tall>170 || 180 > ?tall))\n",
    "} \n",
    "ORDER BY ?nick ?tall\n",
    "\"\"\"\n",
    "query_text2 = \"\"\"\n",
    "PREFIX geo: <http://www.w3.org/2003/01/geo/wgs84_pos#>\n",
    "PREFIX schema: <http://schema.org/>\n",
    "PREFIX rdf: <http://www.w3.org/1999/02/22-rdf-syntax-ns#>\n",
    "SELECT ?person ?name WHERE {\n",
    "  ?person rdf:type schema:Person ;\n",
    "  \t\tschema:height ?height;\n",
    "    \tschema:givenName ?name .\n",
    "  filter(?name=\"bartek\" &&(?height>170 || 180 > ?height))\n",
    "} \n",
    "ORDER BY ?name ?height\n",
    "\"\"\"\n",
    "\n",
    "distance = calculate_distance.compare_queries(query_text1, query_text2)"
   ]
  },
  {
   "cell_type": "code",
   "execution_count": null,
   "metadata": {},
   "outputs": [],
   "source": []
  }
 ],
 "metadata": {
  "kernelspec": {
   "display_name": "kg",
   "language": "python",
   "name": "python3"
  },
  "language_info": {
   "codemirror_mode": {
    "name": "ipython",
    "version": 3
   },
   "file_extension": ".py",
   "mimetype": "text/x-python",
   "name": "python",
   "nbconvert_exporter": "python",
   "pygments_lexer": "ipython3",
   "version": "3.10.13"
  }
 },
 "nbformat": 4,
 "nbformat_minor": 2
}
