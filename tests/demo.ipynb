{
 "cells": [
  {
   "cell_type": "code",
   "execution_count": 69,
   "metadata": {},
   "outputs": [],
   "source": [
    "import sys  \n",
    "sys.path.insert(1, r'C:\\Users\\sinsk\\OneDrive\\Dokumenty\\DS_sem2\\KG\\repo\\Plagiarism-detector-for-SPARQL-queries\\PDSPARQL')\n",
    "import calculate_distance\n",
    "import queryParser as qp"
   ]
  },
  {
   "cell_type": "code",
   "execution_count": 4,
   "metadata": {},
   "outputs": [
    {
     "name": "stdout",
     "output_type": "stream",
     "text": [
      "Distance: 0.0\n"
     ]
    }
   ],
   "source": [
    "query_text1 = \"\"\"\n",
    "PREFIX xsd: <http://www.w3.org/2001/XMLSchema#>\n",
    "PREFIX schema: <http://schema.org/>\n",
    "PREFIX rdf: <http://www.w3.org/1999/02/22-rdf-syntax-ns#>\n",
    "PREFIX rdfs: <http://www.w3.org/2000/01/rdf-schema#>\n",
    "PREFIX skos: <http://www.w3.org/2004/02/skos/core#>\n",
    "PREFIX lab: <https://mini.pw.edu.pl/sdp/lab3/>\n",
    "SELECT ?firstPerson  ?secondPerson (AVG(?height) as ?avgHeight) {\n",
    "\t?secondPerson  rdf:type schema:Person ; \n",
    "                skos:subject ?food .\n",
    "  ?firstPerson rdf:type schema:Person ;\n",
    "  \t\t\t\tskos:subject ?food ;\n",
    "                schema:height ?height .\n",
    "  filter(?firstPerson != ?secondPerson  &&(?height<170 || 180 < ?height))\n",
    "}\n",
    "group by ?firstPerson ?secondPerson\n",
    "ORDER BY ?firstPerson \n",
    "\"\"\"\n",
    "query_text2 = \"\"\"\n",
    "PREFIX xsd: <http://www.w3.org/2001/XMLSchema#>\n",
    "PREFIX schema: <http://schema.org/>\n",
    "PREFIX rdf: <http://www.w3.org/1999/02/22-rdf-syntax-ns#>\n",
    "PREFIX rdfs: <http://www.w3.org/2000/01/rdf-schema#>\n",
    "PREFIX skos: <http://www.w3.org/2004/02/skos/core#>\n",
    "PREFIX lab: <https://mini.pw.edu.pl/sdp/lab3/>\n",
    "SELECT ?firstPerson  ?secondPerson (AVG(?height) as ?avgHeight) {\n",
    "\t?secondPerson  rdf:type schema:Person ; \n",
    "                skos:subject ?food .\n",
    "  ?firstPerson rdf:type schema:Person ;\n",
    "  \t\t\t\tskos:subject ?food ;\n",
    "                schema:height ?height .\n",
    "  filter(?firstPerson != ?secondPerson  &&(?height<170 || 180 < ?height))\n",
    "}\n",
    "group by ?firstPerson ?secondPerson\n",
    "ORDER BY ?firstPerson \n",
    "\"\"\"\n",
    "\n",
    "distance = calculate_distance.compare_queries(query_text1, query_text2)"
   ]
  },
  {
   "cell_type": "code",
   "execution_count": 12,
   "metadata": {},
   "outputs": [
    {
     "name": "stdout",
     "output_type": "stream",
     "text": [
      "Distance: 0.0\n"
     ]
    }
   ],
   "source": [
    "query_text1 = \"\"\"\n",
    "PREFIX xsd: <http://www.w3.org/2001/XMLSchema#>\n",
    "PREFIX schema: <http://schema.org/>\n",
    "PREFIX rdf: <http://www.w3.org/1999/02/22-rdf-syntax-ns#>\n",
    "PREFIX rdfs: <http://www.w3.org/2000/01/rdf-schema#>\n",
    "PREFIX skos: <http://www.w3.org/2004/02/skos/core#>\n",
    "PREFIX lab: <https://mini.pw.edu.pl/sdp/lab3/>\n",
    "SELECT ?firstPerson  ?secondPerson (AVG(?height) as ?avgHeight) {\n",
    "\t?secondPerson  rdf:type schema:Person ; \n",
    "                skos:subject ?food .\n",
    "  ?firstPerson rdf:type schema:Person ;\n",
    "  \t\t\t\tskos:subject ?food ;\n",
    "                schema:height ?height .\n",
    "  filter(?firstPerson != ?secondPerson  &&(?height<170 || 180 < ?height))\n",
    "}\n",
    "group by ?firstPerson ?secondPerson\n",
    "ORDER BY ?firstPerson \n",
    "\"\"\"\n",
    "query_text2 = \"\"\"\n",
    "PREFIX xsd: <http://www.w3.org/2001/XMLSchema#>\n",
    "PREFIX schema: <http://schema.org/>\n",
    "PREFIX rdf: <http://www.w3.org/1999/02/22-rdf-syntax-ns#>\n",
    "PREFIX rdfs: <http://www.w3.org/2000/01/rdf-schema#>\n",
    "PREFIX skos: <http://www.w3.org/2004/02/skos/core#>\n",
    "PREFIX lab: <https://mini.pw.edu.pl/sdp/lab3/>\n",
    "SELECT  ?secondPerson  (AVG(?height) as ?avgHeight) ?firstPerson  {\n",
    "  ?firstPerson rdf:type schema:Person ;\n",
    "          schema:height ?height ;\n",
    "  \t\t\t\tskos:subject ?food .\n",
    "\t?secondPerson  rdf:type schema:Person ; \n",
    "                skos:subject ?food .\n",
    "  filter(?firstPerson != ?secondPerson  &&(?height<170 || 180 < ?height))\n",
    "}\n",
    "group by  ?firstPerson ?secondPerson \n",
    "ORDER BY ?firstPerson \n",
    "\"\"\"\n",
    "\n",
    "distance = calculate_distance.compare_queries(query_text1, query_text2)"
   ]
  },
  {
   "cell_type": "code",
   "execution_count": null,
   "metadata": {},
   "outputs": [],
   "source": [
    "SELECT  ?secondPerson  (AVG(?height) as ?avgHeight) ?firstPerson  {\n",
    "  ?firstPerson rdf:type schema:Person ;\n",
    "          schema:height ?height ;\n",
    "  \t\t\t\tskos:subject ?food .\n",
    "\t?secondPerson  rdf:type schema:Person ; \n",
    "                skos:subject ?food .\n",
    "  filter(?firstPerson != ?secondPerson  &&(?height<170 || 180 < ?height))\n",
    "}\n",
    "group by  ?firstPerson ?secondPerson \n",
    "ORDER BY ?firstPerson"
   ]
  },
  {
   "cell_type": "code",
   "execution_count": 16,
   "metadata": {},
   "outputs": [
    {
     "name": "stdout",
     "output_type": "stream",
     "text": [
      "Distance: 2.0\n"
     ]
    }
   ],
   "source": [
    "query_text1 = \"\"\"\n",
    "PREFIX xsd: <http://www.w3.org/2001/XMLSchema#>\n",
    "PREFIX schema: <http://schema.org/>\n",
    "PREFIX rdf: <http://www.w3.org/1999/02/22-rdf-syntax-ns#>\n",
    "PREFIX rdfs: <http://www.w3.org/2000/01/rdf-schema#>\n",
    "PREFIX skos: <http://www.w3.org/2004/02/skos/core#>\n",
    "PREFIX lab: <https://mini.pw.edu.pl/sdp/lab3/>\n",
    "SELECT ?firstPerson  ?secondPerson (AVG(?height) as ?avgHeight) {\n",
    "\t?secondPerson  rdf:type schema:Person ; \n",
    "                skos:subject ?food .\n",
    "  ?firstPerson rdf:type schema:Person ;\n",
    "  \t\t\t\tskos:subject ?food ;\n",
    "                schema:height ?height .\n",
    "  filter(?firstPerson != ?secondPerson  &&(?height<170 || 180 < ?height))\n",
    "}\n",
    "group by ?firstPerson ?secondPerson\n",
    "ORDER BY ?firstPerson \n",
    "\"\"\"\n",
    "query_text2 = \"\"\"\n",
    "PREFIX xsd: <http://www.w3.org/2001/XMLSchema#>\n",
    "PREFIX schema: <http://schema.org/>\n",
    "PREFIX rdf: <http://www.w3.org/1999/02/22-rdf-syntax-ns#>\n",
    "PREFIX rdfs: <http://www.w3.org/2000/01/rdf-schema#>\n",
    "PREFIX skos: <http://www.w3.org/2004/02/skos/core#>\n",
    "PREFIX lab: <https://mini.pw.edu.pl/sdp/lab3/>\n",
    "SELECT  ?human1  (AVG(?height) as ?avgHeight) ?human2  {\n",
    "  ?human2 rdf:type schema:Person ;\n",
    "          schema:height ?height ;\n",
    "  \t\t\t\tskos:subject ?drink .\n",
    "\t?human1 rdf:type schema:Person ; \n",
    "                skos:subject ?drink .\n",
    "  filter(?human1 != ?human2 &&(?height <170 || 180 < ?height))\n",
    "}\n",
    "group by ?human2 ?human1\n",
    "ORDER BY ?human2\n",
    "\"\"\"\n",
    "\n",
    "distance = calculate_distance.compare_queries(query_text1, query_text2)"
   ]
  },
  {
   "cell_type": "code",
   "execution_count": 20,
   "metadata": {},
   "outputs": [
    {
     "name": "stdout",
     "output_type": "stream",
     "text": [
      "Distance: 0.0\n"
     ]
    }
   ],
   "source": [
    "query_text1 = \"\"\"\n",
    "PREFIX xsd: <http://www.w3.org/2001/XMLSchema#>\n",
    "PREFIX schema: <http://schema.org/>\n",
    "PREFIX rdf: <http://www.w3.org/1999/02/22-rdf-syntax-ns#>\n",
    "PREFIX rdfs: <http://www.w3.org/2000/01/rdf-schema#>\n",
    "PREFIX skos: <http://www.w3.org/2004/02/skos/core#>\n",
    "PREFIX lab: <https://mini.pw.edu.pl/sdp/lab3/>\n",
    "SELECT ?firstPerson  ?secondPerson (AVG(?height) as ?avgHeight) {\n",
    "\t?secondPerson  rdf:type schema:Person ; \n",
    "                skos:subject ?food .\n",
    "  ?firstPerson rdf:type schema:Person ;\n",
    "  \t\t\t\tskos:subject ?food ;\n",
    "                schema:height ?height .\n",
    "  filter(?firstPerson != ?secondPerson  &&(?height<170 || 180 < ?height))\n",
    "}\n",
    "group by ?firstPerson ?secondPerson\n",
    "ORDER BY ?firstPerson \n",
    "\"\"\"\n",
    "query_text2 = \"\"\"\n",
    "PREFIX xsd: <http://www.w3.org/2001/XMLSchema#>\n",
    "PREFIX schema: <http://schema.org/>\n",
    "PREFIX rdf: <http://www.w3.org/1999/02/22-rdf-syntax-ns#>\n",
    "PREFIX rdfs: <http://www.w3.org/2000/01/rdf-schema#>\n",
    "PREFIX skos: <http://www.w3.org/2004/02/skos/core#>\n",
    "PREFIX lab: <https://mini.pw.edu.pl/sdp/lab3/>\n",
    "SELECT  ?human1  (AVG(?height) as ?avgHeight) ?human2  {\n",
    "  ?human2 rdf:type schema:Person ;\n",
    "          schema:height ?height ;\n",
    "  \t\t\t\tskos:subject ?drink .\n",
    "\t?human1 rdf:type schema:Person ; \n",
    "                skos:subject ?drink .\n",
    "  filter(?human2 != ?human1)\n",
    "  filter(170 > ?height  || 180 < ?height)\n",
    "}\n",
    "group by ?human2 ?human1\n",
    "ORDER BY ?human2\n",
    "\"\"\"\n",
    "\n",
    "distance = calculate_distance.compare_queries(query_text1, query_text2)"
   ]
  },
  {
   "cell_type": "code",
   "execution_count": 81,
   "metadata": {},
   "outputs": [
    {
     "name": "stdout",
     "output_type": "stream",
     "text": [
      "Distance: 31.0\n"
     ]
    }
   ],
   "source": [
    "query_text1 = \"\"\"\n",
    "PREFIX geo: <http://www.w3.org/2003/01/geo/wgs84_pos#>\n",
    "PREFIX schema: <http://schema.org/>\n",
    "PREFIX rdf: <http://www.w3.org/1999/02/22-rdf-syntax-ns#>\n",
    "SELECT ?person ?name WHERE {\n",
    "  ?person rdf:type schema:Person ;\n",
    "  \t\tschema:height ?height;\n",
    "    \tschema:givenName ?name .\n",
    "  filter(?name=\"bartek\")\n",
    "  filter(?height>170 || 180 > ?height)\n",
    "} \n",
    "ORDER BY ?name ?height\n",
    "\"\"\"\n",
    "\n",
    "query_text2 = \"\"\"\n",
    "PREFIX schema: <http://schema.org/>\n",
    "PREFIX rdf: <http://www.w3.org/1999/02/22-rdf-syntax-ns#>\n",
    "SELECT ?person ?name WHERE {\n",
    "  ?person rdf:type schema:Person ;\n",
    "    \tschema:givenName ?name .\n",
    "  filter(?name=\"szymon\")\n",
    "} \n",
    "ORDER BY ?name ?height\n",
    "\"\"\"\n",
    "\n",
    "distance = calculate_distance.compare_queries(query_text1, query_text2)"
   ]
  },
  {
   "cell_type": "code",
   "execution_count": 85,
   "metadata": {},
   "outputs": [
    {
     "name": "stdout",
     "output_type": "stream",
     "text": [
      "Distance: 6.0\n"
     ]
    }
   ],
   "source": [
    "query_text1 = \"\"\"\n",
    "PREFIX xsd: <http://www.w3.org/2001/XMLSchema#>\n",
    "PREFIX schema: <http://schema.org/>\n",
    "PREFIX rdf: <http://www.w3.org/1999/02/22-rdf-syntax-ns#>\n",
    "PREFIX rdfs: <http://www.w3.org/2000/01/rdf-schema#>\n",
    "PREFIX skos: <http://www.w3.org/2004/02/skos/core#>\n",
    "PREFIX lab: <https://mini.pw.edu.pl/sdp/lab3/>\n",
    "SELECT  ?food ?coolness (COUNT(DISTINCT?child) as ?childrenCount) WHERE  {\n",
    " \t?food rdf:type schema:Product;\n",
    "  \t\tlab:invented ?date ;\n",
    "  \t\tlab:coolness ?coolness .\n",
    "  \t?child skos:broader  ?food .\n",
    "  filter(\"1990-01-01\"^^xsd:date < ?date  && ?coolness > 50)\n",
    "} \n",
    "GROUP BY ?food ?coolness \n",
    "ORDER BY ?childrenCount ?coolness\n",
    "\"\"\"\n",
    "query_text2 = \"\"\"\n",
    "PREFIX xsd: <http://www.w3.org/2001/XMLSchema#>\n",
    "PREFIX schema: <http://schema.org/>\n",
    "PREFIX rdf: <http://www.w3.org/1999/02/22-rdf-syntax-ns#>\n",
    "PREFIX rdfs: <http://www.w3.org/2000/01/rdf-schema#>\n",
    "PREFIX skos: <http://www.w3.org/2004/02/skos/core#>\n",
    "PREFIX lab: <https://mini.pw.edu.pl/sdp/lab3/>\n",
    "SELECT  ?food ?coolness (COUNT(DISTINCT?child) as ?childrenCount) WHERE  {\n",
    " \t?food rdf:type schema:Product;\n",
    "  \t\tlab:invented ?date ;\n",
    "  \t\tlab:coolness ?coolness .\n",
    "  \t?child skos:broader  ?food .\n",
    "  filter(\"1990-01-01\"^^xsd:date < ?date  && ?coolness > 100)\n",
    "} \n",
    "GROUP BY ?food ?coolness \n",
    "ORDER BY ?childrenCount ?coolness\n",
    "\"\"\"\n",
    "\n",
    "distance = calculate_distance.compare_queries(query_text1, query_text2)"
   ]
  },
  {
   "cell_type": "code",
   "execution_count": 71,
   "metadata": {},
   "outputs": [
    {
     "data": {
      "text/plain": [
       "{'prefixes': {'xsd': 'http://www.w3.org/2001/XMLSchema#',\n",
       "  'schema': 'http://schema.org/',\n",
       "  'rdf': 'http://www.w3.org/1999/02/22-rdf-syntax-ns#',\n",
       "  'rdfs': 'http://www.w3.org/2000/01/rdf-schema#',\n",
       "  'skos': 'http://www.w3.org/2004/02/skos/core#',\n",
       "  'lab': 'https://mini.pw.edu.pl/sdp/lab3/'},\n",
       " 'query': {'project': ['?food', '?aggr0', '?aggr1', '?aggr2'],\n",
       "  'order': ['?aggr0'],\n",
       "  'group': {'variables': ['?food'],\n",
       "   'aggregates': [{'type': 'Count', 'variable': '?child', 'res': '?aggr0'},\n",
       "    {'type': 'Sample', 'variable': '?label', 'res': '?aggr1'},\n",
       "    {'type': 'Avg', 'variable': '?coolnes', 'res': '?aggr2'}]},\n",
       "  'filter': {'logic': 'and',\n",
       "   'expr': {'op': '>',\n",
       "    'expr': '?date',\n",
       "    'other': {'value': datetime.date(1990, 1, 1),\n",
       "     'type': 'http://www.w3.org/2001/XMLSchema#date'}},\n",
       "   'other': {'op': '>',\n",
       "    'expr': {'value': datetime.date(2010, 1, 1),\n",
       "     'type': 'http://www.w3.org/2001/XMLSchema#date'},\n",
       "    'other': '?date'}},\n",
       "  'bgp': [{'subject': '?food',\n",
       "    'predicate': 'http://www.w3.org/1999/02/22-rdf-syntax-ns#type',\n",
       "    'object': 'http://schema.org/Product'},\n",
       "   {'subject': '?child',\n",
       "    'predicate': 'http://www.w3.org/2004/02/skos/core#broader',\n",
       "    'object': '?food'},\n",
       "   {'subject': '?food',\n",
       "    'predicate': 'http://www.w3.org/2000/01/rdf-schema#label',\n",
       "    'object': '?label'},\n",
       "   {'subject': '?food',\n",
       "    'predicate': 'https://mini.pw.edu.pl/sdp/lab3/coolness',\n",
       "    'object': '?coolness'},\n",
       "   {'subject': '?food',\n",
       "    'predicate': 'https://mini.pw.edu.pl/sdp/lab3/invented',\n",
       "    'object': '?date'}]}}"
      ]
     },
     "execution_count": 71,
     "metadata": {},
     "output_type": "execute_result"
    }
   ],
   "source": [
    "qp.convert_query_text(query_text2)"
   ]
  }
 ],
 "metadata": {
  "kernelspec": {
   "display_name": "base",
   "language": "python",
   "name": "python3"
  },
  "language_info": {
   "codemirror_mode": {
    "name": "ipython",
    "version": 3
   },
   "file_extension": ".py",
   "mimetype": "text/x-python",
   "name": "python",
   "nbconvert_exporter": "python",
   "pygments_lexer": "ipython3",
   "version": "3.11.5"
  }
 },
 "nbformat": 4,
 "nbformat_minor": 2
}
